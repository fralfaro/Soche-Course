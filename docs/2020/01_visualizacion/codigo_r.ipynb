{
  "cells": [
    {
      "cell_type": "markdown",
      "metadata": {
        "id": "view-in-github",
        "colab_type": "text"
      },
      "source": [
        "<a href=\"https://colab.research.google.com/github/fralfaro/CienciaDeDatosClases/blob/main/docs/01_introduccion.ipynb\" target=\"_parent\"><img src=\"https://colab.research.google.com/assets/colab-badge.svg\" alt=\"Open In Colab\"/></a>"
      ]
    },
    {
      "cell_type": "markdown",
      "metadata": {
        "id": "ffj1NYQxCmsY"
      },
      "source": [
        "# Introducción Ciencia de Datos\n",
        "\n",
        "Al terminar este capítulo ustedes van a poder:\n",
        "- Crear un proyecto en RStudio\n",
        "- Cargar datos a una sesión de R\n",
        "- Identificar y comprender las distintas estructuras con las que R maneja los datos"
      ]
    },
    {
      "cell_type": "markdown",
      "metadata": {
        "id": "XOWTW5UYCmsb"
      },
      "source": [
        "## Nuestra primera investigación: el precio de las propiedades en CABA\n",
        "\n",
        "En este primer capítulo vamos a estudiar el mercado inmobiliario de la Ciudad de Buenos Aires. Más específicamente, analizaremos los movimientos de los precios en los años 2013-2017 a través de un muy interesante (y masivo) dataset que públicamente ofrece Properati1.\n",
        "\n",
        "Más allá de que analizar los datos de las propiedades es de por sí interesante y pedagógico para introducir varias de las herramientas que vamos a utilizar, el mercado inmobiliario fue procesando varios cambios en parámetros claves como el precio del dólar y la oferta de créditos hipotecarios. Por esta razón, los precios durante los últimos años de nuestra muestra han experimentado un alza, o eso dicen las fuentes del sector.\n",
        "\n",
        "\n",
        "\n",
        "\n",
        "<center>\n",
        "    <img src=\"https://bookdown.org/martinmontaneb/CienciaDeDatosParaCuriosos/Figuras/Tutorial1/recortePrecios.png\" alt=\"img R\" \n",
        "     width=\"700\" height=\"500\" >\n",
        "  <figcaption>Figure 1.1: Nota de TELAM sobre el precio de los inmuebles en CABA durante 2017\n",
        " </figcaption>\n",
        "</center>"
      ]
    },
    {
      "cell_type": "markdown",
      "metadata": {
        "id": "I-NwicnzCmsb"
      },
      "source": [
        "En este primer capítulo vamos a hacer uso de un dataset que tiene el precio promedio del metro cuadrado en USD para el período 2013-2017 desagregado a nivel de barrios. Este dataset se descargó del portal de datos de Properati y se manipuló para que sea apto para nuestro primer análisis.\n",
        "\n",
        "Vamos a intentar responder dos preguntas:\n",
        "\n",
        "* ¿Aumentaron los precios de los inmuebles (medido como USD en m2) en el 2017?\n",
        "* ¿Todos los barrios aumentaron en la misma proporción o existen heterogeneidades?\n",
        "Pero antes de adentrarnos en nuestra pregunta de investigación tenemos que detenernos en algunos puntos importantes."
      ]
    },
    {
      "cell_type": "markdown",
      "metadata": {
        "id": "DiLFS2OlCmsc"
      },
      "source": [
        "## Conociendo RStudio\n",
        "\n",
        "RStudio es el Entorno Ingregrado de Desarrollo (IDE) que vamos a usar a lo largo de este libro, pero ¿Qué hace exactamente un IDE? ¿Para que lo necesitamos?\n",
        "\n",
        "> Un IDE es un software que nos ayuda programar de una manera más simple y eficiente. Entre algunas de sus múltiples funciones, nos sugiere qué deberíamos continuar escribiendo , nos marca dónde nos hemos confundido y administra nuestros archivos en proyectos.\n",
        "\n"
      ]
    },
    {
      "cell_type": "markdown",
      "metadata": {
        "id": "J09g3YnjCmsc"
      },
      "source": [
        "Pero no existe mejor manera de aprender qué es un IDE que usándolo. Abran **RStudio**. Por default, deberían encontrarse con algo similar a lo que aparece en la Figura 1. RStudio divide la pantalla en cuatro paneles. Ariba a la izquierda vemos el Panel de edición de archivos, donde vamos a modificar los archivos donde guardamos nuestro código, a la derecha vemos el Panel de estructuras de datos, donde aparecen las “estructuras de datos” que están creadas (más sobre esto abajo en el documento).\n",
        "\n",
        "Abajo a la izquierda tenemos el panel donde se visualiza la consola o terminal, que es donde vamos a ver ejecutado nuestro código y a su derecha un Panel multiuso, que será de utilidad para explorar archivos, ver la salida gráfica de nuestro código, encontrar ayuda sobre nuestros comandos, entre otras funciones.\n",
        "\n",
        "\n",
        "<center>\n",
        "    <img src=\"https://bookdown.org/martinmontaneb/CienciaDeDatosParaCuriosos/Figuras/Tutorial1/Rstudio1.png\" alt=\"img R\" \n",
        "     width=\"700\" height=\"500\" >\n",
        "  <figcaption>Figure 1.2: Impresión de pantalla de RStudio\n",
        " </figcaption>\n",
        "</center>\n",
        "\n",
        "Vamos a ejecutar nuestro primer código en R. En el panel de abajo a la izquierda (consola o terminal), ejecuten el siguiente código:\n",
        "\n"
      ]
    },
    {
      "cell_type": "code",
      "execution_count": 57,
      "metadata": {
        "colab": {
          "base_uri": "https://localhost:8080/",
          "height": 34
        },
        "id": "KB-UN8WLCmsd",
        "outputId": "0e899bd1-2b48-47dd-c3fd-6463537f2e94"
      },
      "outputs": [
        {
          "output_type": "display_data",
          "data": {
            "text/html": [
              "50"
            ],
            "text/markdown": "50",
            "text/latex": "50",
            "text/plain": [
              "[1] 50"
            ]
          },
          "metadata": {}
        }
      ],
      "source": [
        "5 * 10 # No deberíamos necesitar a R para esto..."
      ]
    },
    {
      "cell_type": "markdown",
      "metadata": {
        "id": "CkMOhTTMCmse"
      },
      "source": [
        "Debería devolver, también en el panel de la consola, el número 50. Ya ejecutamos nuestro primer código en R, pero antes de seguir ejecutemos lo mismo de una manera un poco distinta. Escriban exactamente el mismo código, pero ahora en el **Panel de edición de archivos**. Una vez que lo hayan escrito, seleccionen el código completo con el mouse y presionen `Control + Enter`. En la consola deberían obtener exactamente el mismo resultado.\n",
        "\n",
        "¿Qué fue lo que pasó? Nuestro código está en un archivo (que todavía no guardamos). Al seleccionar el código y apretar `Control + Enter` RStudio pasa este código a la consola y se ejecuta, tal como antes. Para guardar el archivo que acabamos de editar, presionen `Control + S`, pongan el nombre que quieran al nuevo archivo, que tendrá la terminación `.R`, que es como vamos a identificar a los archivos que contienen código de R.\n"
      ]
    },
    {
      "cell_type": "markdown",
      "metadata": {
        "id": "oJ2HNtNZCmsf"
      },
      "source": [
        "### Proyectos en RStudio\n",
        "\n",
        "Hasta ahora creamos un archivo .R que tiene una sola línea de código, pero en los proyectos en los que solemos trabajar la cantidad de archivos con código y con datos se multiplica. Si no pensamos en la organización para un proyecto de ciencia de datos, el resultado puede ser un conjunto de archivos con nombres poco intuitivos en las ubicaciones más variadas dentro de nuestra computadora.\n",
        "\n",
        "Para ayudar a corregir al menos parcialmente este problema, RStudio ofrece la posibilidad de guardar todos los archivos vinculados a un proyecto en una misma dirección de nuestra computadora. De esta manera, evitamos tener que recordar dónde guardamos los archivos y podemos movernos rápidamente de proyecto en proyecto.\n",
        "\n",
        "Crear un nuevo proyecto en RStudio es realmente simple. Solo tienen que ir a `File -> New Project... -> New Directory -> New Project`. Allí deben elegir un nombre para el proyecto y hacer click en Create Project ¡Listo! Ya creamos nuestro primer proyecto. Nuestra pantalla ahora debería estar dividida en cuatro paneles.\n",
        "\n",
        "¿Recuerdan la carpeta donde crearon el proyecto? Una vez que lo hayan hecho, ejecuten el siguiente código desde el panel de abajo a la izquierda:"
      ]
    },
    {
      "cell_type": "code",
      "execution_count": 58,
      "metadata": {
        "colab": {
          "base_uri": "https://localhost:8080/",
          "height": 34
        },
        "id": "QTKShLrdCmsf",
        "outputId": "688d18f6-2d0c-4eeb-afa3-6f9b6f5e8bc5"
      },
      "outputs": [
        {
          "output_type": "display_data",
          "data": {
            "text/html": [
              "'/content'"
            ],
            "text/markdown": "'/content'",
            "text/latex": "'/content'",
            "text/plain": [
              "[1] \"/content\""
            ]
          },
          "metadata": {}
        }
      ],
      "source": [
        "getwd()"
      ]
    },
    {
      "cell_type": "markdown",
      "metadata": {
        "id": "jZVgTlrSCmsg"
      },
      "source": [
        "¿Qué sucedió? Les devolvió la dirección de la carpeta donde está este proyecto. De ahora en más, todo lo que guarden o a lo que intenten acceder desde el proyecto de RStudio se hará dentro de este directorio. Esto trae muchos beneficios que iremos viendo de aquí en adelante."
      ]
    },
    {
      "cell_type": "markdown",
      "metadata": {
        "id": "KWuTAt26Cmsg"
      },
      "source": [
        "## Importando datos a R\n",
        "Cargar los datos a la sesión de R - es decir cuando abrimos RStudio - es una de las tareas más importantes ¡no hay ciencia de datos sin datos! En esta sección vamos a ver distintas formas de cargar los datos y veremos dónde aparecen visualmente en RStudio."
      ]
    },
    {
      "cell_type": "markdown",
      "metadata": {
        "id": "RdirDrLUCmsg"
      },
      "source": [
        "### Comma Separated Values\n",
        "\n",
        "Uno de los formatos más conocidos para guardar datos son los archivos separados por comas (CSV). El formato consiste simplemente en elementos separados por algún delimitador, en general una coma, que terminan formando una matriz. Veamos un ejemplo con el precio de los inmuebles por año y barrio:"
      ]
    },
    {
      "cell_type": "code",
      "execution_count": 59,
      "metadata": {
        "id": "KdQ3Aat0Cmsg"
      },
      "outputs": [],
      "source": [
        "precioAvisos <- read.csv(file = 'https://raw.githubusercontent.com/martintinch0/CienciaDeDatosParaCuriosos/master/data/precioBarrios.csv',\n",
        "         sep=';',\n",
        "         stringsAsFactors = FALSE)"
      ]
    },
    {
      "cell_type": "markdown",
      "metadata": {
        "id": "GYHMrszcCmsh"
      },
      "source": [
        "En este código hicimos muchas cosas ¿no? Pero antes de empezar a explicar lo que acaban de ejecutar, fijense qué pasó en el panel de arriba a la derecha: deberían tener una fila que dice “precioAvisos” con 48 observaciones 6 variables. Si descargan el csv que acabamos de cargar directamente a R y lo abren, por ejemplo, con excel van a ver también que tiene 48 observaciones y 6 variables **¡Hicimos nuestra primera carga de datos a R!**\n",
        "\n",
        "¿Cómo lo hicimos? Con la ayuda de la función **read.csv**. ¿Qué es una función? Una función no es otra cosa que un conjunto de código que no vemos, pero que podemos usar de la siguiente manera: le damos algo y nos devuelve otra cosa.\n",
        "\n",
        "> Una función en los lenguajes de programación es una “caja” que procesa algo que le damos (input) y nos devuelve algo (output).\n",
        "\n",
        "¿Qué le damos a una función? Le pasamos valores. En este caso, file, sep y stringsAsFactors. ¿Qué nos devuelve? Lo que hay en ese archivo (file) separado por el caracter que nosotros le pasamos (sep). Por el momento, dejaremos stringsAsFactors de un lado.\n",
        "\n",
        "Pero ¿Cómo aparecieron esos datos en un **objeto** con un nombre **precioAvisos**? Eso lo hicimos con la ayuda de `<-`, nuestra forma de asignar resultados de funciones a objetos.\n",
        "\n",
        "> El operador de asignación `<-` “pasa” o asigna lo que sea que está a su derecha a un objeto que está a su izquierda. En nuestro ejemplo. a la izquierda esta “precioAvisos”, que es como se llamará nuestro objeto, y a la derecha está nuestra primera función “read.csv()”\n",
        "\n",
        "## ¿Cómo R organiza los datos?\n",
        "\n",
        "Hagan click en “precioAvisos”, en el panel de arriba a la derecha ¿Qué ven? Este es tan solo uno de los objetos que tiene R para ir guardando datos. La función `class()` nos ayuda para saber qué usó R para guardar estos datos:"
      ]
    },
    {
      "cell_type": "code",
      "execution_count": 60,
      "metadata": {
        "colab": {
          "base_uri": "https://localhost:8080/",
          "height": 34
        },
        "id": "2uBzvBZ9Cmsh",
        "outputId": "d57b8348-9bfa-419d-ca9e-056e65a3f790"
      },
      "outputs": [
        {
          "output_type": "display_data",
          "data": {
            "text/html": [
              "'data.frame'"
            ],
            "text/markdown": "'data.frame'",
            "text/latex": "'data.frame'",
            "text/plain": [
              "[1] \"data.frame\""
            ]
          },
          "metadata": {}
        }
      ],
      "source": [
        "class(precioAvisos)"
      ]
    },
    {
      "cell_type": "markdown",
      "metadata": {
        "id": "XVpe5KQWCmsh"
      },
      "source": [
        "En este caso, vemos que es un **data.frame**, un caso específico - y muy importante - de las estructuras de datos u objetos de R. Se trata de un caso un poco complejo, vayamos un poco para atrás y veamos las estructuras de datos más simples que maneja R. Luego veremos que se relacionan con los **data.frame**."
      ]
    },
    {
      "cell_type": "markdown",
      "metadata": {
        "id": "6QqkDzhDCmsh"
      },
      "source": [
        "### Vectores\n",
        "\n",
        "R organiza a los datos en diferentes **estructuras** según el dominio de los datos. El dominio no es otra cosa que los valores que una variable puede llegar a tomar. Por ejemplo, si una variable solo puede tomar números reales y enteros, R pondrá esa variable en un vector númerico o integer, para ser más preciso.\n",
        "\n",
        "Un vector es la estructura más básica con la que vamos a lidiar. Un **vector** no es otra cosa que una colección numerada de valores, es decir una estructura que puede contener uno o más valores, y puede accederse a través de índices que denotan el orden de cada número dentro del vector ¿Simple, no? Creemos nuestro primer vector"
      ]
    },
    {
      "cell_type": "code",
      "execution_count": 61,
      "metadata": {
        "id": "kJSZvAbJCmsi"
      },
      "outputs": [],
      "source": [
        "primerVector <- c(20,40,60,80,100)"
      ]
    },
    {
      "cell_type": "markdown",
      "metadata": {
        "id": "derUcTyuCmsi"
      },
      "source": [
        "Ya está: el objeto `primerVector` es un vector númerico que tiene cinco elementos: `20`, `40`, `60`, `80` y `100`. Como les prometí, el vector es una colección numerada de valores, por lo que podemos acceder a cualquiera de los valores llamando al objeto por su nombre y escribiendo la posición entre corchetes `[]` (la numeración arranca desde 1 en R)"
      ]
    },
    {
      "cell_type": "code",
      "execution_count": 62,
      "metadata": {
        "colab": {
          "base_uri": "https://localhost:8080/",
          "height": 34
        },
        "id": "Gw3mUzB1Cmsi",
        "outputId": "83dbd5a6-cc9c-4aa3-fd83-bfe02060cd6b"
      },
      "outputs": [
        {
          "output_type": "display_data",
          "data": {
            "text/html": [
              "60"
            ],
            "text/markdown": "60",
            "text/latex": "60",
            "text/plain": [
              "[1] 60"
            ]
          },
          "metadata": {}
        }
      ],
      "source": [
        "primerVector[3] # Devuelve el valor del elemento en la tercera posición de nuestro vector"
      ]
    },
    {
      "cell_type": "markdown",
      "metadata": {
        "id": "yhafaiAVCmsi"
      },
      "source": [
        "La mayor parte de nuestros datos no consiste solo en números, sino en datos mixtos: números, texto, variables categóricas, variables lógicas. Todos estos tipos de datos pueden ser representados en nuestros versátiles vectores:"
      ]
    },
    {
      "cell_type": "code",
      "execution_count": 63,
      "metadata": {
        "id": "t7ju3zkzCmsi"
      },
      "outputs": [],
      "source": [
        "vectorTexto <- c(\"Croacia\",\"Argentina\",\"Nigeria\",\"Islandia\")\n",
        "vectorLogico <- c(FALSE, TRUE, TRUE, FALSE)"
      ]
    },
    {
      "cell_type": "markdown",
      "metadata": {
        "id": "zsgfmda0Cmsi"
      },
      "source": [
        "Los vectores de texto no requieren demasiada discusión: son vectores cuyos elementos son texto. Por su parte, los vectores lógicos quizás sí requieran algo de explicación. Los elementos de estos vectores solo pueden tomar los valores TRUE o FALSE, y resultan de mucha utilidad para hacer preguntas del estilo ¿Es este vector un vector de texto?"
      ]
    },
    {
      "cell_type": "code",
      "execution_count": 64,
      "metadata": {
        "colab": {
          "base_uri": "https://localhost:8080/",
          "height": 34
        },
        "id": "pvINmjVpCmsi",
        "outputId": "6c72361c-5989-40f9-fcf1-6eb79986a087"
      },
      "outputs": [
        {
          "output_type": "display_data",
          "data": {
            "text/html": [
              "TRUE"
            ],
            "text/markdown": "TRUE",
            "text/latex": "TRUE",
            "text/plain": [
              "[1] TRUE"
            ]
          },
          "metadata": {}
        }
      ],
      "source": [
        "is.character(vectorTexto)"
      ]
    },
    {
      "cell_type": "markdown",
      "metadata": {
        "id": "xQVNPtQkCmsj"
      },
      "source": [
        "Volvamos a nuestros datos sobre los precios de los inmuebles. Ya comentamos que había seis variables, pero no dijimos que a su vez son ¡6 vectores!. Uno es CHARACTER, como nuestro `vectorTexto` anterior, cinco son INTEGER, o numeric, como nuestro `primer_vector` y el último es sfc_MULTIPOLYGON (vamos a ver un poco más en detalle este último tipo de vector en próximas clases) ¿Cómo podemos acceder a ellos? La llave es el operador `$`"
      ]
    },
    {
      "cell_type": "code",
      "execution_count": 65,
      "metadata": {
        "colab": {
          "base_uri": "https://localhost:8080/"
        },
        "id": "f2oD8PZLCmsj",
        "outputId": "fc5cbcc0-3ff0-4bfe-88a1-023af5170b53"
      },
      "outputs": [
        {
          "output_type": "stream",
          "name": "stdout",
          "text": [
            " num [1:48] 1946 2299 1989 1920 3199 ...\n"
          ]
        }
      ],
      "source": [
        "precios2017 <- precioAvisos$USDm2_2017 \n",
        "str(precios2017) # ¿Los 100 barrios porteños en realidad son 48?"
      ]
    },
    {
      "cell_type": "markdown",
      "metadata": {
        "id": "fDu674Z0Cmsj"
      },
      "source": [
        "¿Qué fue lo que hicimos? Creamos el objeto precios2017 al que le asignamos (`<-`) el vector/variable `USDm2_2017` que está en el Data Frame precioAvisos (vamos a ver más sobre los **Data Frame** más adelante). Al usar la función `str()` (son las primeras tres letras de la palabra structure en inglés) vemos que se trata de un vector integer (o númerico) con 48 elementos ¡La misma cantidad de observaciones que tenemos en `precioAvisos`!\n",
        "\n",
        "Ahora es donde las cosas se ponen un poco más interesantes. Podemos hacer múltiples operaciones aritméticas sobre este vector de una manera muy simple:"
      ]
    },
    {
      "cell_type": "code",
      "execution_count": 66,
      "metadata": {
        "colab": {
          "base_uri": "https://localhost:8080/"
        },
        "id": "S3xToZn6Cmsj",
        "outputId": "9350e165-f6f8-49a4-c2f5-937f9a1aa310"
      },
      "outputs": [
        {
          "output_type": "stream",
          "name": "stdout",
          "text": [
            " num [1:48] 3891 4598 3978 3839 6398 ...\n"
          ]
        }
      ],
      "source": [
        "str(precios2017*2) # Multiplicación"
      ]
    },
    {
      "cell_type": "code",
      "execution_count": 67,
      "metadata": {
        "colab": {
          "base_uri": "https://localhost:8080/"
        },
        "id": "pGnGbyoaCmsj",
        "outputId": "110ab15a-6795-4301-f8ab-17321ca09d46"
      },
      "outputs": [
        {
          "output_type": "stream",
          "name": "stdout",
          "text": [
            " num [1:48] 486 575 497 480 800 ...\n"
          ]
        }
      ],
      "source": [
        "str(precios2017/4) # División"
      ]
    },
    {
      "cell_type": "code",
      "execution_count": 68,
      "metadata": {
        "colab": {
          "base_uri": "https://localhost:8080/"
        },
        "id": "-zifJtbnCmsj",
        "outputId": "131f07e1-6d40-4cca-aa94-5584d5a4c58d"
      },
      "outputs": [
        {
          "output_type": "stream",
          "name": "stdout",
          "text": [
            " num [1:48] 1926 2279 1969 1900 3179 ...\n"
          ]
        }
      ],
      "source": [
        "str(precios2017 - 20) # Resta por solo un número"
      ]
    },
    {
      "cell_type": "code",
      "execution_count": 69,
      "metadata": {
        "colab": {
          "base_uri": "https://localhost:8080/"
        },
        "id": "RmihxB2_Cmsj",
        "outputId": "5177f15e-fad4-47cc-bc19-807db04c6902"
      },
      "outputs": [
        {
          "output_type": "stream",
          "name": "stdout",
          "text": [
            " num [1:48] 0 0 0 0 0 0 0 0 0 0 ...\n"
          ]
        }
      ],
      "source": [
        "str(precios2017 - precios2017) # Resta con otro vector de igual tamaño"
      ]
    },
    {
      "cell_type": "markdown",
      "metadata": {
        "id": "d3Wk41AJCmsj"
      },
      "source": [
        "Una de las ventajas de R es su vectorización. En las operaciones anteriores vimos como múltiplicar, dividir, restar o cualquier otra operación aritmética se **aplica de manera individual sobre cada uno de los elementos de los vectores**, con lo cual la operación se hace elemento por elemento.\n",
        "\n",
        "Hagamos algo que sea útil para describir la distribución de los precios de los inmuebles ¿Cuál es el valor mínimo del metro cuadrado? ¿Cuál es el máximo? ¿Cuál es el precio promedio? Las funciones `min()`, `max()` y `mean()` hacen el trabajo por nosotros."
      ]
    },
    {
      "cell_type": "code",
      "execution_count": 70,
      "metadata": {
        "colab": {
          "base_uri": "https://localhost:8080/",
          "height": 34
        },
        "id": "EewJoGS9Cmsj",
        "outputId": "a49570cc-0bc1-45a0-8ec8-4885a6e81576"
      },
      "outputs": [
        {
          "output_type": "display_data",
          "data": {
            "text/html": [
              "<style>\n",
              ".list-inline {list-style: none; margin:0; padding: 0}\n",
              ".list-inline>li {display: inline-block}\n",
              ".list-inline>li:not(:last-child)::after {content: \"\\00b7\"; padding: 0 .5ex}\n",
              "</style>\n",
              "<ol class=list-inline><li>872.7540794</li><li>6070.3287995</li><li>2203.11191260833</li></ol>\n"
            ],
            "text/markdown": "1. 872.7540794\n2. 6070.3287995\n3. 2203.11191260833\n\n\n",
            "text/latex": "\\begin{enumerate*}\n\\item 872.7540794\n\\item 6070.3287995\n\\item 2203.11191260833\n\\end{enumerate*}\n",
            "text/plain": [
              "[1]  872.7541 6070.3288 2203.1119"
            ]
          },
          "metadata": {}
        }
      ],
      "source": [
        "resumen_2017 <- c(min(precios2017), max(precios2017), mean(precios2017))\n",
        "resumen_2017"
      ]
    },
    {
      "cell_type": "markdown",
      "metadata": {
        "id": "hQUexQz4Cmsk"
      },
      "source": [
        "### Listas y Data Frames\n",
        "\n",
        "Otras estructuras de datos importantes en R son las **listas** y **Data Frames**:\n",
        "\n",
        "* Las **listas** son objetos que contienen a su vez un conjunto ordenados de objetos.\n",
        "* Los **Data Frames** son un caso específico de listas.\n",
        "\n",
        "**Listas**\n",
        "\n",
        "Las listas tienen la posibilidad de almacenar objetos con distinta clase. Es decir, es posible crear una lista en la cual se almacenan otras estructuras de datos con clases distintas:\n"
      ]
    },
    {
      "cell_type": "code",
      "execution_count": 71,
      "metadata": {
        "colab": {
          "base_uri": "https://localhost:8080/",
          "height": 184
        },
        "id": "BkMj2kBCCmsk",
        "outputId": "da58a77f-1234-4549-c0a6-4f8d6822fae4"
      },
      "outputs": [
        {
          "output_type": "display_data",
          "data": {
            "text/html": [
              "<dl>\n",
              "\t<dt>$Nombres</dt>\n",
              "\t\t<dd><style>\n",
              ".list-inline {list-style: none; margin:0; padding: 0}\n",
              ".list-inline>li {display: inline-block}\n",
              ".list-inline>li:not(:last-child)::after {content: \"\\00b7\"; padding: 0 .5ex}\n",
              "</style>\n",
              "<ol class=list-inline><li>'Fernando'</li><li>'Martín'</li></ol>\n",
              "</dd>\n",
              "\t<dt>$Apellido</dt>\n",
              "\t\t<dd>'Montané'</dd>\n",
              "\t<dt>$tienehijos</dt>\n",
              "\t\t<dd>FALSE</dd>\n",
              "\t<dt>$edad</dt>\n",
              "\t\t<dd>26</dd>\n",
              "</dl>\n"
            ],
            "text/markdown": "$Nombres\n:   1. 'Fernando'\n2. 'Martín'\n\n\n\n$Apellido\n:   'Montané'\n$tienehijos\n:   FALSE\n$edad\n:   26\n\n\n",
            "text/latex": "\\begin{description}\n\\item[\\$Nombres] \\begin{enumerate*}\n\\item 'Fernando'\n\\item 'Martín'\n\\end{enumerate*}\n\n\\item[\\$Apellido] 'Montané'\n\\item[\\$tienehijos] FALSE\n\\item[\\$edad] 26\n\\end{description}\n",
            "text/plain": [
              "$Nombres\n",
              "[1] \"Fernando\" \"Martín\"  \n",
              "\n",
              "$Apellido\n",
              "[1] \"Montané\"\n",
              "\n",
              "$tienehijos\n",
              "[1] FALSE\n",
              "\n",
              "$edad\n",
              "[1] 26\n"
            ]
          },
          "metadata": {}
        }
      ],
      "source": [
        "lista1 <- list(Nombres = c(\"Fernando\",\"Martín\"), Apellido=\"Montané\", tienehijos = FALSE,\n",
        "              edad = 26)\n",
        "lista1"
      ]
    },
    {
      "cell_type": "markdown",
      "metadata": {
        "id": "8D1yByRVCmsk"
      },
      "source": [
        "En este caso creamos una lista que se llama lista1 y almacena 4 vectores. El primero, es un vector Nombres que contiene dos elementos de clase character. El segundo, un vector de un solo elemento, Apellido de clase character. El tercero, un vector lógico de un elemento ( tienehijos ). Finalmente, el vector edad, que posee un elemento númerico.\n",
        "\n",
        "En las listas hay que acceder a los objetos, que puede ser cualquiera de las estructuras que vimos hasta ahora (incluyendo las listas). Para acceder a ellos existen al menos 3 formas:\n",
        "\n",
        "* Usando el signo $ `lista$Nombres`\n",
        "* Usando doble corchetes e indicando la posición del objeto buscado `lista[[1]]`\n",
        "* Usando doble corchetes e indicando el nombre del objeto buscado `lista[['Nombres']]`"
      ]
    },
    {
      "cell_type": "code",
      "execution_count": 72,
      "metadata": {
        "colab": {
          "base_uri": "https://localhost:8080/",
          "height": 34
        },
        "id": "cfxjQGZKCmsk",
        "outputId": "bbeda5ab-e689-4230-a26e-f0cc4a70511b"
      },
      "outputs": [
        {
          "output_type": "display_data",
          "data": {
            "text/html": [
              "<style>\n",
              ".list-inline {list-style: none; margin:0; padding: 0}\n",
              ".list-inline>li {display: inline-block}\n",
              ".list-inline>li:not(:last-child)::after {content: \"\\00b7\"; padding: 0 .5ex}\n",
              "</style>\n",
              "<ol class=list-inline><li>'Fernando'</li><li>'Martín'</li></ol>\n"
            ],
            "text/markdown": "1. 'Fernando'\n2. 'Martín'\n\n\n",
            "text/latex": "\\begin{enumerate*}\n\\item 'Fernando'\n\\item 'Martín'\n\\end{enumerate*}\n",
            "text/plain": [
              "[1] \"Fernando\" \"Martín\"  "
            ]
          },
          "metadata": {}
        }
      ],
      "source": [
        "lista1$Nombres"
      ]
    },
    {
      "cell_type": "code",
      "execution_count": 73,
      "metadata": {
        "colab": {
          "base_uri": "https://localhost:8080/",
          "height": 34
        },
        "id": "ifZEblTsCmsk",
        "outputId": "5147bb46-5ad8-4620-fc4f-425b58a3c209"
      },
      "outputs": [
        {
          "output_type": "display_data",
          "data": {
            "text/html": [
              "<style>\n",
              ".list-inline {list-style: none; margin:0; padding: 0}\n",
              ".list-inline>li {display: inline-block}\n",
              ".list-inline>li:not(:last-child)::after {content: \"\\00b7\"; padding: 0 .5ex}\n",
              "</style>\n",
              "<ol class=list-inline><li>'Fernando'</li><li>'Martín'</li></ol>\n"
            ],
            "text/markdown": "1. 'Fernando'\n2. 'Martín'\n\n\n",
            "text/latex": "\\begin{enumerate*}\n\\item 'Fernando'\n\\item 'Martín'\n\\end{enumerate*}\n",
            "text/plain": [
              "[1] \"Fernando\" \"Martín\"  "
            ]
          },
          "metadata": {}
        }
      ],
      "source": [
        "lista1[[1]]"
      ]
    },
    {
      "cell_type": "code",
      "execution_count": 74,
      "metadata": {
        "colab": {
          "base_uri": "https://localhost:8080/",
          "height": 34
        },
        "id": "Kwb0hkuoCmsk",
        "outputId": "f76b82ec-fac2-488c-f01a-6ba491955b85"
      },
      "outputs": [
        {
          "output_type": "display_data",
          "data": {
            "text/html": [
              "<style>\n",
              ".list-inline {list-style: none; margin:0; padding: 0}\n",
              ".list-inline>li {display: inline-block}\n",
              ".list-inline>li:not(:last-child)::after {content: \"\\00b7\"; padding: 0 .5ex}\n",
              "</style>\n",
              "<ol class=list-inline><li>'Fernando'</li><li>'Martín'</li></ol>\n"
            ],
            "text/markdown": "1. 'Fernando'\n2. 'Martín'\n\n\n",
            "text/latex": "\\begin{enumerate*}\n\\item 'Fernando'\n\\item 'Martín'\n\\end{enumerate*}\n",
            "text/plain": [
              "[1] \"Fernando\" \"Martín\"  "
            ]
          },
          "metadata": {}
        }
      ],
      "source": [
        "lista1[['Nombres']]"
      ]
    },
    {
      "cell_type": "markdown",
      "metadata": {
        "id": "MyZlNgdDCmsk"
      },
      "source": [
        "**Data Frames**\n",
        "\n",
        "¡Ahora estamos en condiciones de explicar qué es un **Data Frame**! Como se adelantó, un **Data Frame** es un caso específico de listas. En la gran mayoría de las aplicaciones se puede describir como una matriz en la cual variables (columnas) pueden ser de distintas clases."
      ]
    },
    {
      "cell_type": "code",
      "execution_count": 75,
      "metadata": {
        "colab": {
          "base_uri": "https://localhost:8080/",
          "height": 223
        },
        "id": "1cbsrQ-ICmsk",
        "outputId": "0f400009-f09c-483e-fa6d-af7a20460569"
      },
      "outputs": [
        {
          "output_type": "display_data",
          "data": {
            "text/html": [
              "<table class=\"dataframe\">\n",
              "<caption>A data.frame: 4 × 4</caption>\n",
              "<thead>\n",
              "\t<tr><th scope=col>Nombres</th><th scope=col>Edad</th><th scope=col>EstadoCivil</th><th scope=col>SecundarioCompleto</th></tr>\n",
              "\t<tr><th scope=col>&lt;chr&gt;</th><th scope=col>&lt;dbl&gt;</th><th scope=col>&lt;chr&gt;</th><th scope=col>&lt;lgl&gt;</th></tr>\n",
              "</thead>\n",
              "<tbody>\n",
              "\t<tr><td>Juan   </td><td>21</td><td>Soltero</td><td> TRUE</td></tr>\n",
              "\t<tr><td>Pedro  </td><td>46</td><td>Casado </td><td>FALSE</td></tr>\n",
              "\t<tr><td>Ana    </td><td>58</td><td>Casado </td><td> TRUE</td></tr>\n",
              "\t<tr><td>Delfina</td><td>27</td><td>Soltero</td><td> TRUE</td></tr>\n",
              "</tbody>\n",
              "</table>\n"
            ],
            "text/markdown": "\nA data.frame: 4 × 4\n\n| Nombres &lt;chr&gt; | Edad &lt;dbl&gt; | EstadoCivil &lt;chr&gt; | SecundarioCompleto &lt;lgl&gt; |\n|---|---|---|---|\n| Juan    | 21 | Soltero |  TRUE |\n| Pedro   | 46 | Casado  | FALSE |\n| Ana     | 58 | Casado  |  TRUE |\n| Delfina | 27 | Soltero |  TRUE |\n\n",
            "text/latex": "A data.frame: 4 × 4\n\\begin{tabular}{llll}\n Nombres & Edad & EstadoCivil & SecundarioCompleto\\\\\n <chr> & <dbl> & <chr> & <lgl>\\\\\n\\hline\n\t Juan    & 21 & Soltero &  TRUE\\\\\n\t Pedro   & 46 & Casado  & FALSE\\\\\n\t Ana     & 58 & Casado  &  TRUE\\\\\n\t Delfina & 27 & Soltero &  TRUE\\\\\n\\end{tabular}\n",
            "text/plain": [
              "  Nombres Edad EstadoCivil SecundarioCompleto\n",
              "1 Juan    21   Soltero      TRUE             \n",
              "2 Pedro   46   Casado      FALSE             \n",
              "3 Ana     58   Casado       TRUE             \n",
              "4 Delfina 27   Soltero      TRUE             "
            ]
          },
          "metadata": {}
        }
      ],
      "source": [
        "df <- data.frame(Nombres = c('Juan','Pedro','Ana','Delfina'),\n",
        "                 Edad = c(21,46,58,27),\n",
        "                 EstadoCivil = c('Soltero','Casado','Casado','Soltero'),\n",
        "                 SecundarioCompleto = c(TRUE, FALSE, TRUE, TRUE))\n",
        "df"
      ]
    },
    {
      "cell_type": "code",
      "execution_count": 76,
      "metadata": {
        "colab": {
          "base_uri": "https://localhost:8080/"
        },
        "id": "eDGtEXQ1Cmsk",
        "outputId": "85c60c34-6e9e-4661-d868-eac1924e3170"
      },
      "outputs": [
        {
          "output_type": "stream",
          "name": "stdout",
          "text": [
            "'data.frame':\t4 obs. of  4 variables:\n",
            " $ Nombres           : chr  \"Juan\" \"Pedro\" \"Ana\" \"Delfina\"\n",
            " $ Edad              : num  21 46 58 27\n",
            " $ EstadoCivil       : chr  \"Soltero\" \"Casado\" \"Casado\" \"Soltero\"\n",
            " $ SecundarioCompleto: logi  TRUE FALSE TRUE TRUE\n"
          ]
        }
      ],
      "source": [
        "str(df) # Resumen del objeto"
      ]
    },
    {
      "cell_type": "markdown",
      "metadata": {
        "id": "LQe8fyfrCmsl"
      },
      "source": [
        "El comando str nos devuelve un resumen de las variables del data frame, incluyendo sus clases. Si prestan atención, el vector numérico Edad y el lógico *SecundarioCompleto* tienen la clase esperada, pero los vectores de caracteres Edad y *SecundarioCompleto* dice **Factor** w/2 o w/4 levels ¿Qué es esto?\n",
        "\n",
        "La clase Factor es un caso específico de vectores. En esta clase de vectores, las variables solo pueden tomar un conjunto de valores predeterminados, es decir que tienen una categoría. Estas categorías se llaman levels en R.\n",
        "\n",
        "Internamente R transforma estas variables y les asigna un número entero, que son los valores que nos devolvió el comando str. Sin embargo, estos números hacen referencia a una categoría que tiene un nombre. En nuestro caso ¿Tiene sentido que los dos vectores con texto sean Factores?. Respuesta: no. El estado civil de una persona sí puede segmentarse en categorías que se repiten, pero no es el caso de los nombres. Para evitar que R transforme nuestros vectores character en Factor lo que hay que hacer cuando definimos un **Data Frame** es decírselo a R con el parámetro *stringsAsFactors*:"
      ]
    },
    {
      "cell_type": "code",
      "execution_count": 77,
      "metadata": {
        "colab": {
          "base_uri": "https://localhost:8080/",
          "height": 223
        },
        "id": "DLQd_Eb6Cmsl",
        "outputId": "8491306f-e6f4-4509-e302-cc97825ceb1d"
      },
      "outputs": [
        {
          "output_type": "display_data",
          "data": {
            "text/html": [
              "<table class=\"dataframe\">\n",
              "<caption>A data.frame: 4 × 4</caption>\n",
              "<thead>\n",
              "\t<tr><th scope=col>Nombres</th><th scope=col>Edad</th><th scope=col>EstadoCivil</th><th scope=col>SecundarioCompleto</th></tr>\n",
              "\t<tr><th scope=col>&lt;chr&gt;</th><th scope=col>&lt;dbl&gt;</th><th scope=col>&lt;chr&gt;</th><th scope=col>&lt;lgl&gt;</th></tr>\n",
              "</thead>\n",
              "<tbody>\n",
              "\t<tr><td>Juan   </td><td>21</td><td>Soltero</td><td> TRUE</td></tr>\n",
              "\t<tr><td>Pedro  </td><td>46</td><td>Casado </td><td>FALSE</td></tr>\n",
              "\t<tr><td>Ana    </td><td>58</td><td>Casado </td><td> TRUE</td></tr>\n",
              "\t<tr><td>Delfina</td><td>27</td><td>Soltero</td><td> TRUE</td></tr>\n",
              "</tbody>\n",
              "</table>\n"
            ],
            "text/markdown": "\nA data.frame: 4 × 4\n\n| Nombres &lt;chr&gt; | Edad &lt;dbl&gt; | EstadoCivil &lt;chr&gt; | SecundarioCompleto &lt;lgl&gt; |\n|---|---|---|---|\n| Juan    | 21 | Soltero |  TRUE |\n| Pedro   | 46 | Casado  | FALSE |\n| Ana     | 58 | Casado  |  TRUE |\n| Delfina | 27 | Soltero |  TRUE |\n\n",
            "text/latex": "A data.frame: 4 × 4\n\\begin{tabular}{llll}\n Nombres & Edad & EstadoCivil & SecundarioCompleto\\\\\n <chr> & <dbl> & <chr> & <lgl>\\\\\n\\hline\n\t Juan    & 21 & Soltero &  TRUE\\\\\n\t Pedro   & 46 & Casado  & FALSE\\\\\n\t Ana     & 58 & Casado  &  TRUE\\\\\n\t Delfina & 27 & Soltero &  TRUE\\\\\n\\end{tabular}\n",
            "text/plain": [
              "  Nombres Edad EstadoCivil SecundarioCompleto\n",
              "1 Juan    21   Soltero      TRUE             \n",
              "2 Pedro   46   Casado      FALSE             \n",
              "3 Ana     58   Casado       TRUE             \n",
              "4 Delfina 27   Soltero      TRUE             "
            ]
          },
          "metadata": {}
        }
      ],
      "source": [
        "df <- data.frame(Nombres = c('Juan','Pedro','Ana','Delfina'),\n",
        "                 Edad = c(21,46,58,27),\n",
        "                 EstadoCivil = c('Soltero','Casado','Casado','Soltero'),\n",
        "                 SecundarioCompleto = c(TRUE, FALSE, TRUE, TRUE),\n",
        "                 stringsAsFactors = FALSE)\n",
        "df"
      ]
    },
    {
      "cell_type": "code",
      "execution_count": 78,
      "metadata": {
        "colab": {
          "base_uri": "https://localhost:8080/"
        },
        "id": "Us0SDNlaCmsl",
        "outputId": "2ca15281-3b8c-4be5-9f17-27dc6753eb10"
      },
      "outputs": [
        {
          "output_type": "stream",
          "name": "stdout",
          "text": [
            "'data.frame':\t4 obs. of  4 variables:\n",
            " $ Nombres           : chr  \"Juan\" \"Pedro\" \"Ana\" \"Delfina\"\n",
            " $ Edad              : num  21 46 58 27\n",
            " $ EstadoCivil       : chr  \"Soltero\" \"Casado\" \"Casado\" \"Soltero\"\n",
            " $ SecundarioCompleto: logi  TRUE FALSE TRUE TRUE\n"
          ]
        }
      ],
      "source": [
        "str(df) # Resumen del objeto. Ahora ya no tenemos Factors."
      ]
    },
    {
      "cell_type": "markdown",
      "metadata": {
        "id": "aJcaalBNCmsl"
      },
      "source": [
        "Los vectores Factor son de mucha utilidad, especialmente cuando se trabaja con modelos estadísticos en R. Vamos a verlos en otras aplicaciones más adelante.\n",
        "\n",
        "Ahora ya tenemos los elementos suficientes como para definir más concretamente qué es un Data Frame: es un conjunto de listas, que en su versión más usual contienen un vector cada una de un mismo largo (mismas cantidad de observaciones), pero que pueden almacenar variables de distinto dominio. Esto es algo muy útil para la mayor parte de datasets con los que se trabaja."
      ]
    },
    {
      "cell_type": "markdown",
      "metadata": {
        "id": "2vo3oqgWCmsl"
      },
      "source": [
        "## Inspeccionando nuestros datos\n",
        "\n",
        "¿Cómo sabemos qué datos tenemos cargados? Tenemos al menos dos funciones que sirven para inspeccionar rápidamente los datos. Por un lado, podemos usar la función `View()` (Notar la **V** mayúscula al principio de la función). Lo que hay que hacer es pasarle uno de nuestros objetos que están cargados, y nos devuelve la tabla entera en el panel de edición."
      ]
    },
    {
      "cell_type": "code",
      "execution_count": 79,
      "metadata": {
        "colab": {
          "base_uri": "https://localhost:8080/",
          "height": 1000
        },
        "id": "ShhwfCFTCmsl",
        "outputId": "d79bc254-3edf-4922-db21-698422b8620c"
      },
      "outputs": [
        {
          "output_type": "display_data",
          "data": {
            "text/plain": [
              "   BARRIOS           USDm2_2013 USDm2_2014 USDm2_2015 USDm2_2016 USDm2_2017\n",
              "1  AGRONOMIA         1749.107   1457.974   1689.309   2056.743   1945.6065 \n",
              "2  ALMAGRO           2033.538   1930.081   2086.387   1950.488   2299.0683 \n",
              "3  BALVANERA         1893.371   1818.466   1857.900   1834.028   1989.1439 \n",
              "4  BARRACAS          2229.450   1901.401   2390.073   1751.239   1919.5811 \n",
              "5  BELGRANO          2619.973   2544.015   2695.148   3286.557   3199.2061 \n",
              "6  BOCA              1665.082   1405.424   1812.957   1459.604   1674.5640 \n",
              "7  BOEDO             2578.181   1810.027   2082.106   1562.627   1857.9378 \n",
              "8  CABALLITO         2263.397   2033.947   2153.961   2264.950   2512.9830 \n",
              "9  CHACARITA         2353.396   2083.826   2122.337   2110.865   2435.5774 \n",
              "10 COGHLAN           2656.169   2211.404   2234.113   2443.587   2608.7611 \n",
              "11 COLEGIALES        2456.690   2425.557   2345.988   2530.120   2820.5775 \n",
              "12 CONSTITUCION      1757.722   1615.515   1891.143   1669.477   1780.9270 \n",
              "13 FLORES            2012.048   1818.180   1941.132   1945.581   2052.0307 \n",
              "14 FLORESTA          1775.217   1850.633   1707.078   1698.672   1799.0546 \n",
              "15 LINIERS           1671.956   1583.798   1804.059   1778.948   1799.8994 \n",
              "16 MATADEROS         1509.202   1470.884   1460.970   1367.489   1526.9062 \n",
              "17 MONSERRAT         2211.122   2063.177   2114.658   2073.782   2195.5157 \n",
              "18 MONTE CASTRO      2131.067   1689.208   1818.925   1900.716   1926.7460 \n",
              "19 NUEVA POMPEYA     1733.885   1389.153   1435.563   1288.173   1520.7808 \n",
              "20 NUÑEZ             2860.343   2571.673   2766.086   3083.382   3099.7532 \n",
              "21 PALERMO           2969.914   2865.323   2855.663   3338.895   3440.1838 \n",
              "22 PARQUE AVELLANEDA 1501.626   1450.182   3093.725   1382.946   1365.5237 \n",
              "23 PARQUE CHACABUCO  1774.638   1787.546   1811.577   1743.468   2030.7709 \n",
              "24 PARQUE CHAS       2167.927   1938.503   2033.618   2103.709   2221.9000 \n",
              "25 PARQUE PATRICIOS  1671.574   1502.252   1665.247   1796.961   1784.2635 \n",
              "26 PATERNAL          1979.661   1694.042   1560.521   1958.359   2062.8619 \n",
              "27 PUERTO MADERO     4808.052   4754.230   5348.426   5742.719   6070.3288 \n",
              "28 RECOLETA          2804.563   2656.299   2698.058   3068.577   3248.2453 \n",
              "29 RETIRO            2684.619   2658.874   2728.101   2836.720   3146.8744 \n",
              "30 SAAVEDRA          2142.902   2159.452   2079.747   2186.247   2361.0853 \n",
              "31 SAN CRISTOBAL     2323.973   1934.920   2624.382   1770.419   1916.3548 \n",
              "32 SAN NICOLAS       2518.413   2180.252   2102.118   2343.136   2431.0081 \n",
              "33 SAN TELMO         2224.907   1984.548   1991.912   2186.106   2390.8029 \n",
              "34 VELEZ SARSFIELD   1618.784   1559.800   1520.944   1599.940   1751.4902 \n",
              "35 VERSALLES         1483.271   1403.157   1488.054   1645.329   1625.8537 \n",
              "36 VILLA CRESPO      2260.153   2357.957   2254.580   2326.994   2474.0603 \n",
              "37 VILLA DEL PARQUE  1935.495   1852.457   1859.115   2039.246   2197.6942 \n",
              "38 VILLA DEVOTO      2093.273   1904.191   2096.970   2083.992   2171.3600 \n",
              "39 VILLA GRAL. MITRE 1934.169   1731.286   1928.124   1967.199   2022.8740 \n",
              "40 VILLA LUGANO      1182.779   1248.710   1172.980   1208.222   1152.4682 \n",
              "41 VILLA LURO        1788.873   1949.096   1671.023   1681.790   2001.4789 \n",
              "42 VILLA ORTUZAR     2126.561   2151.608   2062.152   2007.371   2390.9102 \n",
              "43 VILLA PUEYRREDON  1894.086   1497.981   1630.813   1624.366   2061.2390 \n",
              "44 VILLA REAL        1669.844   1436.426   1463.709   1582.302   1726.4659 \n",
              "45 VILLA RIACHUELO   1489.534   1369.383   1212.377   1475.852   1311.8156 \n",
              "46 VILLA SANTA RITA  2182.093   1948.102   2137.532   1848.100   1952.2045 \n",
              "47 VILLA SOLDATI     1721.077   1700.376   1611.692   2382.034    872.7541 \n",
              "48 VILLA URQUIZA     2291.764   1980.756   2121.251   2439.630   2601.8794 "
            ],
            "text/html": [
              "<table class=\"dataframe\">\n",
              "<caption>A data.frame: 48 × 6</caption>\n",
              "<thead>\n",
              "\t<tr><th scope=col>BARRIOS</th><th scope=col>USDm2_2013</th><th scope=col>USDm2_2014</th><th scope=col>USDm2_2015</th><th scope=col>USDm2_2016</th><th scope=col>USDm2_2017</th></tr>\n",
              "\t<tr><th scope=col>&lt;chr&gt;</th><th scope=col>&lt;dbl&gt;</th><th scope=col>&lt;dbl&gt;</th><th scope=col>&lt;dbl&gt;</th><th scope=col>&lt;dbl&gt;</th><th scope=col>&lt;dbl&gt;</th></tr>\n",
              "</thead>\n",
              "<tbody>\n",
              "\t<tr><td>AGRONOMIA        </td><td>1749.107</td><td>1457.974</td><td>1689.309</td><td>2056.743</td><td>1945.6065</td></tr>\n",
              "\t<tr><td>ALMAGRO          </td><td>2033.538</td><td>1930.081</td><td>2086.387</td><td>1950.488</td><td>2299.0683</td></tr>\n",
              "\t<tr><td>BALVANERA        </td><td>1893.371</td><td>1818.466</td><td>1857.900</td><td>1834.028</td><td>1989.1439</td></tr>\n",
              "\t<tr><td>BARRACAS         </td><td>2229.450</td><td>1901.401</td><td>2390.073</td><td>1751.239</td><td>1919.5811</td></tr>\n",
              "\t<tr><td>BELGRANO         </td><td>2619.973</td><td>2544.015</td><td>2695.148</td><td>3286.557</td><td>3199.2061</td></tr>\n",
              "\t<tr><td>BOCA             </td><td>1665.082</td><td>1405.424</td><td>1812.957</td><td>1459.604</td><td>1674.5640</td></tr>\n",
              "\t<tr><td>BOEDO            </td><td>2578.181</td><td>1810.027</td><td>2082.106</td><td>1562.627</td><td>1857.9378</td></tr>\n",
              "\t<tr><td>CABALLITO        </td><td>2263.397</td><td>2033.947</td><td>2153.961</td><td>2264.950</td><td>2512.9830</td></tr>\n",
              "\t<tr><td>CHACARITA        </td><td>2353.396</td><td>2083.826</td><td>2122.337</td><td>2110.865</td><td>2435.5774</td></tr>\n",
              "\t<tr><td>COGHLAN          </td><td>2656.169</td><td>2211.404</td><td>2234.113</td><td>2443.587</td><td>2608.7611</td></tr>\n",
              "\t<tr><td>COLEGIALES       </td><td>2456.690</td><td>2425.557</td><td>2345.988</td><td>2530.120</td><td>2820.5775</td></tr>\n",
              "\t<tr><td>CONSTITUCION     </td><td>1757.722</td><td>1615.515</td><td>1891.143</td><td>1669.477</td><td>1780.9270</td></tr>\n",
              "\t<tr><td>FLORES           </td><td>2012.048</td><td>1818.180</td><td>1941.132</td><td>1945.581</td><td>2052.0307</td></tr>\n",
              "\t<tr><td>FLORESTA         </td><td>1775.217</td><td>1850.633</td><td>1707.078</td><td>1698.672</td><td>1799.0546</td></tr>\n",
              "\t<tr><td>LINIERS          </td><td>1671.956</td><td>1583.798</td><td>1804.059</td><td>1778.948</td><td>1799.8994</td></tr>\n",
              "\t<tr><td>MATADEROS        </td><td>1509.202</td><td>1470.884</td><td>1460.970</td><td>1367.489</td><td>1526.9062</td></tr>\n",
              "\t<tr><td>MONSERRAT        </td><td>2211.122</td><td>2063.177</td><td>2114.658</td><td>2073.782</td><td>2195.5157</td></tr>\n",
              "\t<tr><td>MONTE CASTRO     </td><td>2131.067</td><td>1689.208</td><td>1818.925</td><td>1900.716</td><td>1926.7460</td></tr>\n",
              "\t<tr><td>NUEVA POMPEYA    </td><td>1733.885</td><td>1389.153</td><td>1435.563</td><td>1288.173</td><td>1520.7808</td></tr>\n",
              "\t<tr><td>NUÑEZ            </td><td>2860.343</td><td>2571.673</td><td>2766.086</td><td>3083.382</td><td>3099.7532</td></tr>\n",
              "\t<tr><td>PALERMO          </td><td>2969.914</td><td>2865.323</td><td>2855.663</td><td>3338.895</td><td>3440.1838</td></tr>\n",
              "\t<tr><td>PARQUE AVELLANEDA</td><td>1501.626</td><td>1450.182</td><td>3093.725</td><td>1382.946</td><td>1365.5237</td></tr>\n",
              "\t<tr><td>PARQUE CHACABUCO </td><td>1774.638</td><td>1787.546</td><td>1811.577</td><td>1743.468</td><td>2030.7709</td></tr>\n",
              "\t<tr><td>PARQUE CHAS      </td><td>2167.927</td><td>1938.503</td><td>2033.618</td><td>2103.709</td><td>2221.9000</td></tr>\n",
              "\t<tr><td>PARQUE PATRICIOS </td><td>1671.574</td><td>1502.252</td><td>1665.247</td><td>1796.961</td><td>1784.2635</td></tr>\n",
              "\t<tr><td>PATERNAL         </td><td>1979.661</td><td>1694.042</td><td>1560.521</td><td>1958.359</td><td>2062.8619</td></tr>\n",
              "\t<tr><td>PUERTO MADERO    </td><td>4808.052</td><td>4754.230</td><td>5348.426</td><td>5742.719</td><td>6070.3288</td></tr>\n",
              "\t<tr><td>RECOLETA         </td><td>2804.563</td><td>2656.299</td><td>2698.058</td><td>3068.577</td><td>3248.2453</td></tr>\n",
              "\t<tr><td>RETIRO           </td><td>2684.619</td><td>2658.874</td><td>2728.101</td><td>2836.720</td><td>3146.8744</td></tr>\n",
              "\t<tr><td>SAAVEDRA         </td><td>2142.902</td><td>2159.452</td><td>2079.747</td><td>2186.247</td><td>2361.0853</td></tr>\n",
              "\t<tr><td>SAN CRISTOBAL    </td><td>2323.973</td><td>1934.920</td><td>2624.382</td><td>1770.419</td><td>1916.3548</td></tr>\n",
              "\t<tr><td>SAN NICOLAS      </td><td>2518.413</td><td>2180.252</td><td>2102.118</td><td>2343.136</td><td>2431.0081</td></tr>\n",
              "\t<tr><td>SAN TELMO        </td><td>2224.907</td><td>1984.548</td><td>1991.912</td><td>2186.106</td><td>2390.8029</td></tr>\n",
              "\t<tr><td>VELEZ SARSFIELD  </td><td>1618.784</td><td>1559.800</td><td>1520.944</td><td>1599.940</td><td>1751.4902</td></tr>\n",
              "\t<tr><td>VERSALLES        </td><td>1483.271</td><td>1403.157</td><td>1488.054</td><td>1645.329</td><td>1625.8537</td></tr>\n",
              "\t<tr><td>VILLA CRESPO     </td><td>2260.153</td><td>2357.957</td><td>2254.580</td><td>2326.994</td><td>2474.0603</td></tr>\n",
              "\t<tr><td>VILLA DEL PARQUE </td><td>1935.495</td><td>1852.457</td><td>1859.115</td><td>2039.246</td><td>2197.6942</td></tr>\n",
              "\t<tr><td>VILLA DEVOTO     </td><td>2093.273</td><td>1904.191</td><td>2096.970</td><td>2083.992</td><td>2171.3600</td></tr>\n",
              "\t<tr><td>VILLA GRAL. MITRE</td><td>1934.169</td><td>1731.286</td><td>1928.124</td><td>1967.199</td><td>2022.8740</td></tr>\n",
              "\t<tr><td>VILLA LUGANO     </td><td>1182.779</td><td>1248.710</td><td>1172.980</td><td>1208.222</td><td>1152.4682</td></tr>\n",
              "\t<tr><td>VILLA LURO       </td><td>1788.873</td><td>1949.096</td><td>1671.023</td><td>1681.790</td><td>2001.4789</td></tr>\n",
              "\t<tr><td>VILLA ORTUZAR    </td><td>2126.561</td><td>2151.608</td><td>2062.152</td><td>2007.371</td><td>2390.9102</td></tr>\n",
              "\t<tr><td>VILLA PUEYRREDON </td><td>1894.086</td><td>1497.981</td><td>1630.813</td><td>1624.366</td><td>2061.2390</td></tr>\n",
              "\t<tr><td>VILLA REAL       </td><td>1669.844</td><td>1436.426</td><td>1463.709</td><td>1582.302</td><td>1726.4659</td></tr>\n",
              "\t<tr><td>VILLA RIACHUELO  </td><td>1489.534</td><td>1369.383</td><td>1212.377</td><td>1475.852</td><td>1311.8156</td></tr>\n",
              "\t<tr><td>VILLA SANTA RITA </td><td>2182.093</td><td>1948.102</td><td>2137.532</td><td>1848.100</td><td>1952.2045</td></tr>\n",
              "\t<tr><td>VILLA SOLDATI    </td><td>1721.077</td><td>1700.376</td><td>1611.692</td><td>2382.034</td><td> 872.7541</td></tr>\n",
              "\t<tr><td>VILLA URQUIZA    </td><td>2291.764</td><td>1980.756</td><td>2121.251</td><td>2439.630</td><td>2601.8794</td></tr>\n",
              "</tbody>\n",
              "</table>\n"
            ],
            "text/markdown": "\nA data.frame: 48 × 6\n\n| BARRIOS &lt;chr&gt; | USDm2_2013 &lt;dbl&gt; | USDm2_2014 &lt;dbl&gt; | USDm2_2015 &lt;dbl&gt; | USDm2_2016 &lt;dbl&gt; | USDm2_2017 &lt;dbl&gt; |\n|---|---|---|---|---|---|\n| AGRONOMIA         | 1749.107 | 1457.974 | 1689.309 | 2056.743 | 1945.6065 |\n| ALMAGRO           | 2033.538 | 1930.081 | 2086.387 | 1950.488 | 2299.0683 |\n| BALVANERA         | 1893.371 | 1818.466 | 1857.900 | 1834.028 | 1989.1439 |\n| BARRACAS          | 2229.450 | 1901.401 | 2390.073 | 1751.239 | 1919.5811 |\n| BELGRANO          | 2619.973 | 2544.015 | 2695.148 | 3286.557 | 3199.2061 |\n| BOCA              | 1665.082 | 1405.424 | 1812.957 | 1459.604 | 1674.5640 |\n| BOEDO             | 2578.181 | 1810.027 | 2082.106 | 1562.627 | 1857.9378 |\n| CABALLITO         | 2263.397 | 2033.947 | 2153.961 | 2264.950 | 2512.9830 |\n| CHACARITA         | 2353.396 | 2083.826 | 2122.337 | 2110.865 | 2435.5774 |\n| COGHLAN           | 2656.169 | 2211.404 | 2234.113 | 2443.587 | 2608.7611 |\n| COLEGIALES        | 2456.690 | 2425.557 | 2345.988 | 2530.120 | 2820.5775 |\n| CONSTITUCION      | 1757.722 | 1615.515 | 1891.143 | 1669.477 | 1780.9270 |\n| FLORES            | 2012.048 | 1818.180 | 1941.132 | 1945.581 | 2052.0307 |\n| FLORESTA          | 1775.217 | 1850.633 | 1707.078 | 1698.672 | 1799.0546 |\n| LINIERS           | 1671.956 | 1583.798 | 1804.059 | 1778.948 | 1799.8994 |\n| MATADEROS         | 1509.202 | 1470.884 | 1460.970 | 1367.489 | 1526.9062 |\n| MONSERRAT         | 2211.122 | 2063.177 | 2114.658 | 2073.782 | 2195.5157 |\n| MONTE CASTRO      | 2131.067 | 1689.208 | 1818.925 | 1900.716 | 1926.7460 |\n| NUEVA POMPEYA     | 1733.885 | 1389.153 | 1435.563 | 1288.173 | 1520.7808 |\n| NUÑEZ             | 2860.343 | 2571.673 | 2766.086 | 3083.382 | 3099.7532 |\n| PALERMO           | 2969.914 | 2865.323 | 2855.663 | 3338.895 | 3440.1838 |\n| PARQUE AVELLANEDA | 1501.626 | 1450.182 | 3093.725 | 1382.946 | 1365.5237 |\n| PARQUE CHACABUCO  | 1774.638 | 1787.546 | 1811.577 | 1743.468 | 2030.7709 |\n| PARQUE CHAS       | 2167.927 | 1938.503 | 2033.618 | 2103.709 | 2221.9000 |\n| PARQUE PATRICIOS  | 1671.574 | 1502.252 | 1665.247 | 1796.961 | 1784.2635 |\n| PATERNAL          | 1979.661 | 1694.042 | 1560.521 | 1958.359 | 2062.8619 |\n| PUERTO MADERO     | 4808.052 | 4754.230 | 5348.426 | 5742.719 | 6070.3288 |\n| RECOLETA          | 2804.563 | 2656.299 | 2698.058 | 3068.577 | 3248.2453 |\n| RETIRO            | 2684.619 | 2658.874 | 2728.101 | 2836.720 | 3146.8744 |\n| SAAVEDRA          | 2142.902 | 2159.452 | 2079.747 | 2186.247 | 2361.0853 |\n| SAN CRISTOBAL     | 2323.973 | 1934.920 | 2624.382 | 1770.419 | 1916.3548 |\n| SAN NICOLAS       | 2518.413 | 2180.252 | 2102.118 | 2343.136 | 2431.0081 |\n| SAN TELMO         | 2224.907 | 1984.548 | 1991.912 | 2186.106 | 2390.8029 |\n| VELEZ SARSFIELD   | 1618.784 | 1559.800 | 1520.944 | 1599.940 | 1751.4902 |\n| VERSALLES         | 1483.271 | 1403.157 | 1488.054 | 1645.329 | 1625.8537 |\n| VILLA CRESPO      | 2260.153 | 2357.957 | 2254.580 | 2326.994 | 2474.0603 |\n| VILLA DEL PARQUE  | 1935.495 | 1852.457 | 1859.115 | 2039.246 | 2197.6942 |\n| VILLA DEVOTO      | 2093.273 | 1904.191 | 2096.970 | 2083.992 | 2171.3600 |\n| VILLA GRAL. MITRE | 1934.169 | 1731.286 | 1928.124 | 1967.199 | 2022.8740 |\n| VILLA LUGANO      | 1182.779 | 1248.710 | 1172.980 | 1208.222 | 1152.4682 |\n| VILLA LURO        | 1788.873 | 1949.096 | 1671.023 | 1681.790 | 2001.4789 |\n| VILLA ORTUZAR     | 2126.561 | 2151.608 | 2062.152 | 2007.371 | 2390.9102 |\n| VILLA PUEYRREDON  | 1894.086 | 1497.981 | 1630.813 | 1624.366 | 2061.2390 |\n| VILLA REAL        | 1669.844 | 1436.426 | 1463.709 | 1582.302 | 1726.4659 |\n| VILLA RIACHUELO   | 1489.534 | 1369.383 | 1212.377 | 1475.852 | 1311.8156 |\n| VILLA SANTA RITA  | 2182.093 | 1948.102 | 2137.532 | 1848.100 | 1952.2045 |\n| VILLA SOLDATI     | 1721.077 | 1700.376 | 1611.692 | 2382.034 |  872.7541 |\n| VILLA URQUIZA     | 2291.764 | 1980.756 | 2121.251 | 2439.630 | 2601.8794 |\n\n",
            "text/latex": "A data.frame: 48 × 6\n\\begin{tabular}{llllll}\n BARRIOS & USDm2\\_2013 & USDm2\\_2014 & USDm2\\_2015 & USDm2\\_2016 & USDm2\\_2017\\\\\n <chr> & <dbl> & <dbl> & <dbl> & <dbl> & <dbl>\\\\\n\\hline\n\t AGRONOMIA         & 1749.107 & 1457.974 & 1689.309 & 2056.743 & 1945.6065\\\\\n\t ALMAGRO           & 2033.538 & 1930.081 & 2086.387 & 1950.488 & 2299.0683\\\\\n\t BALVANERA         & 1893.371 & 1818.466 & 1857.900 & 1834.028 & 1989.1439\\\\\n\t BARRACAS          & 2229.450 & 1901.401 & 2390.073 & 1751.239 & 1919.5811\\\\\n\t BELGRANO          & 2619.973 & 2544.015 & 2695.148 & 3286.557 & 3199.2061\\\\\n\t BOCA              & 1665.082 & 1405.424 & 1812.957 & 1459.604 & 1674.5640\\\\\n\t BOEDO             & 2578.181 & 1810.027 & 2082.106 & 1562.627 & 1857.9378\\\\\n\t CABALLITO         & 2263.397 & 2033.947 & 2153.961 & 2264.950 & 2512.9830\\\\\n\t CHACARITA         & 2353.396 & 2083.826 & 2122.337 & 2110.865 & 2435.5774\\\\\n\t COGHLAN           & 2656.169 & 2211.404 & 2234.113 & 2443.587 & 2608.7611\\\\\n\t COLEGIALES        & 2456.690 & 2425.557 & 2345.988 & 2530.120 & 2820.5775\\\\\n\t CONSTITUCION      & 1757.722 & 1615.515 & 1891.143 & 1669.477 & 1780.9270\\\\\n\t FLORES            & 2012.048 & 1818.180 & 1941.132 & 1945.581 & 2052.0307\\\\\n\t FLORESTA          & 1775.217 & 1850.633 & 1707.078 & 1698.672 & 1799.0546\\\\\n\t LINIERS           & 1671.956 & 1583.798 & 1804.059 & 1778.948 & 1799.8994\\\\\n\t MATADEROS         & 1509.202 & 1470.884 & 1460.970 & 1367.489 & 1526.9062\\\\\n\t MONSERRAT         & 2211.122 & 2063.177 & 2114.658 & 2073.782 & 2195.5157\\\\\n\t MONTE CASTRO      & 2131.067 & 1689.208 & 1818.925 & 1900.716 & 1926.7460\\\\\n\t NUEVA POMPEYA     & 1733.885 & 1389.153 & 1435.563 & 1288.173 & 1520.7808\\\\\n\t NUÑEZ             & 2860.343 & 2571.673 & 2766.086 & 3083.382 & 3099.7532\\\\\n\t PALERMO           & 2969.914 & 2865.323 & 2855.663 & 3338.895 & 3440.1838\\\\\n\t PARQUE AVELLANEDA & 1501.626 & 1450.182 & 3093.725 & 1382.946 & 1365.5237\\\\\n\t PARQUE CHACABUCO  & 1774.638 & 1787.546 & 1811.577 & 1743.468 & 2030.7709\\\\\n\t PARQUE CHAS       & 2167.927 & 1938.503 & 2033.618 & 2103.709 & 2221.9000\\\\\n\t PARQUE PATRICIOS  & 1671.574 & 1502.252 & 1665.247 & 1796.961 & 1784.2635\\\\\n\t PATERNAL          & 1979.661 & 1694.042 & 1560.521 & 1958.359 & 2062.8619\\\\\n\t PUERTO MADERO     & 4808.052 & 4754.230 & 5348.426 & 5742.719 & 6070.3288\\\\\n\t RECOLETA          & 2804.563 & 2656.299 & 2698.058 & 3068.577 & 3248.2453\\\\\n\t RETIRO            & 2684.619 & 2658.874 & 2728.101 & 2836.720 & 3146.8744\\\\\n\t SAAVEDRA          & 2142.902 & 2159.452 & 2079.747 & 2186.247 & 2361.0853\\\\\n\t SAN CRISTOBAL     & 2323.973 & 1934.920 & 2624.382 & 1770.419 & 1916.3548\\\\\n\t SAN NICOLAS       & 2518.413 & 2180.252 & 2102.118 & 2343.136 & 2431.0081\\\\\n\t SAN TELMO         & 2224.907 & 1984.548 & 1991.912 & 2186.106 & 2390.8029\\\\\n\t VELEZ SARSFIELD   & 1618.784 & 1559.800 & 1520.944 & 1599.940 & 1751.4902\\\\\n\t VERSALLES         & 1483.271 & 1403.157 & 1488.054 & 1645.329 & 1625.8537\\\\\n\t VILLA CRESPO      & 2260.153 & 2357.957 & 2254.580 & 2326.994 & 2474.0603\\\\\n\t VILLA DEL PARQUE  & 1935.495 & 1852.457 & 1859.115 & 2039.246 & 2197.6942\\\\\n\t VILLA DEVOTO      & 2093.273 & 1904.191 & 2096.970 & 2083.992 & 2171.3600\\\\\n\t VILLA GRAL. MITRE & 1934.169 & 1731.286 & 1928.124 & 1967.199 & 2022.8740\\\\\n\t VILLA LUGANO      & 1182.779 & 1248.710 & 1172.980 & 1208.222 & 1152.4682\\\\\n\t VILLA LURO        & 1788.873 & 1949.096 & 1671.023 & 1681.790 & 2001.4789\\\\\n\t VILLA ORTUZAR     & 2126.561 & 2151.608 & 2062.152 & 2007.371 & 2390.9102\\\\\n\t VILLA PUEYRREDON  & 1894.086 & 1497.981 & 1630.813 & 1624.366 & 2061.2390\\\\\n\t VILLA REAL        & 1669.844 & 1436.426 & 1463.709 & 1582.302 & 1726.4659\\\\\n\t VILLA RIACHUELO   & 1489.534 & 1369.383 & 1212.377 & 1475.852 & 1311.8156\\\\\n\t VILLA SANTA RITA  & 2182.093 & 1948.102 & 2137.532 & 1848.100 & 1952.2045\\\\\n\t VILLA SOLDATI     & 1721.077 & 1700.376 & 1611.692 & 2382.034 &  872.7541\\\\\n\t VILLA URQUIZA     & 2291.764 & 1980.756 & 2121.251 & 2439.630 & 2601.8794\\\\\n\\end{tabular}\n"
          },
          "metadata": {}
        }
      ],
      "source": [
        "View(precioAvisos) # Debería abrirse una tabla dentro del panel de edición"
      ]
    },
    {
      "cell_type": "markdown",
      "metadata": {
        "id": "wzFy2KexCmsl"
      },
      "source": [
        "Deberían ver una matriz con 6 columnas y unas 48 filas. Las filas representan observaciones (en este caso, barrios), mientras que las columnas hacen referencia a las variables, que tienen los siguientes nombres: BARRIOS, USDm2_2013, USDm2_2014, USDm2_2015, USDm2_2016, USDm2_2017 y geometry ¿Qué significan?\n",
        "\n",
        "* **BARRIOS**: es una variable que indica cuál es el nombre del barrio al que pertenece cada observación\n",
        "* **USDm2_201x**: estás 5 columnas hacen referencia al valor promedio de los inmuebles creados en cada año para cada barrio (período 2013-2017)\n",
        "\n",
        "Otra función que puede ser muy útil para describir nuestros objetos, que ya hemos usado anteriormente, es `str()`. Nos devuelve las primeras observaciones de cada una de las variables, también la **clase** de nuestro objeto, la cantidad de observaciones (o filas), que en este caso son 48, y la cantidad de variables (o columnas), que son 6. También nos indica la **clase** de cada una de las variables, que en este caso son `int` o `num`. Para entender bien las clases de datos y las diversas estructuras que los contienen tenemos que ir un casillero más atrás y explicar cómo es R organiza las cosas."
      ]
    },
    {
      "cell_type": "code",
      "execution_count": 80,
      "metadata": {
        "colab": {
          "base_uri": "https://localhost:8080/"
        },
        "id": "KeSlfiXvCmsl",
        "outputId": "ef5f9152-fcd1-42a7-c35c-d83343615fda"
      },
      "outputs": [
        {
          "output_type": "stream",
          "name": "stdout",
          "text": [
            "'data.frame':\t48 obs. of  6 variables:\n",
            " $ BARRIOS   : chr  \"AGRONOMIA\" \"ALMAGRO\" \"BALVANERA\" \"BARRACAS\" ...\n",
            " $ USDm2_2013: num  1749 2034 1893 2229 2620 ...\n",
            " $ USDm2_2014: num  1458 1930 1818 1901 2544 ...\n",
            " $ USDm2_2015: num  1689 2086 1858 2390 2695 ...\n",
            " $ USDm2_2016: num  2057 1950 1834 1751 3287 ...\n",
            " $ USDm2_2017: num  1946 2299 1989 1920 3199 ...\n"
          ]
        }
      ],
      "source": [
        "str(precioAvisos) "
      ]
    },
    {
      "cell_type": "markdown",
      "metadata": {
        "id": "jos-o8YMCmsl"
      },
      "source": [
        "## Retomando nuestro ejercicio: ¿Cuánto aumentaron las viviendas?\n",
        "\n",
        "Ya estamos en condiciones de hacer un par de cálculos más y ver si efectivamente, como en la noticia principal, las propiedades aumentaron de precio en 2017. Para esto, no tenemos que hacer nada nuevo, usando el operador `$`, que nos deja elegir el vector de nuestro data.frame, solo tenemos que hacer una división."
      ]
    },
    {
      "cell_type": "code",
      "execution_count": 81,
      "metadata": {
        "colab": {
          "base_uri": "https://localhost:8080/",
          "height": 34
        },
        "id": "LKJjjArnCmsl",
        "outputId": "1f068dd9-f244-4009-adec-3565debc3e63"
      },
      "outputs": [
        {
          "output_type": "display_data",
          "data": {
            "text/html": [
              "0.0529905100846166"
            ],
            "text/markdown": "0.0529905100846166",
            "text/latex": "0.0529905100846166",
            "text/plain": [
              "[1] 0.05299051"
            ]
          },
          "metadata": {}
        }
      ],
      "source": [
        "mean(precioAvisos$USDm2_2017)/mean(precioAvisos$USDm2_2016) - 1"
      ]
    },
    {
      "cell_type": "markdown",
      "metadata": {
        "id": "TjTlh2NiCmsm"
      },
      "source": [
        "Según nuestros datos, aumentaron 5,3% en 2017. Coincidimos con la nota, pero nos da un poco menos que lo esperado. Veamos ahora cuál fue la variación de los barrios: recuerden que R puede vectorizar la operación. Vamos a agregarle una nueva columna a nuestro data frame, combinando lo que aprendimos hoy"
      ]
    },
    {
      "cell_type": "code",
      "execution_count": 82,
      "metadata": {
        "colab": {
          "base_uri": "https://localhost:8080/",
          "height": 1000
        },
        "id": "1zltNGRnCmsm",
        "outputId": "11cf2117-be06-46c0-b82b-e3ca4775b87a"
      },
      "outputs": [
        {
          "output_type": "display_data",
          "data": {
            "text/plain": [
              "   BARRIOS           USDm2_2013 USDm2_2014 USDm2_2015 USDm2_2016 USDm2_2017\n",
              "1  AGRONOMIA         1749.107   1457.974   1689.309   2056.743   1945.6065 \n",
              "2  ALMAGRO           2033.538   1930.081   2086.387   1950.488   2299.0683 \n",
              "3  BALVANERA         1893.371   1818.466   1857.900   1834.028   1989.1439 \n",
              "4  BARRACAS          2229.450   1901.401   2390.073   1751.239   1919.5811 \n",
              "5  BELGRANO          2619.973   2544.015   2695.148   3286.557   3199.2061 \n",
              "6  BOCA              1665.082   1405.424   1812.957   1459.604   1674.5640 \n",
              "7  BOEDO             2578.181   1810.027   2082.106   1562.627   1857.9378 \n",
              "8  CABALLITO         2263.397   2033.947   2153.961   2264.950   2512.9830 \n",
              "9  CHACARITA         2353.396   2083.826   2122.337   2110.865   2435.5774 \n",
              "10 COGHLAN           2656.169   2211.404   2234.113   2443.587   2608.7611 \n",
              "11 COLEGIALES        2456.690   2425.557   2345.988   2530.120   2820.5775 \n",
              "12 CONSTITUCION      1757.722   1615.515   1891.143   1669.477   1780.9270 \n",
              "13 FLORES            2012.048   1818.180   1941.132   1945.581   2052.0307 \n",
              "14 FLORESTA          1775.217   1850.633   1707.078   1698.672   1799.0546 \n",
              "15 LINIERS           1671.956   1583.798   1804.059   1778.948   1799.8994 \n",
              "16 MATADEROS         1509.202   1470.884   1460.970   1367.489   1526.9062 \n",
              "17 MONSERRAT         2211.122   2063.177   2114.658   2073.782   2195.5157 \n",
              "18 MONTE CASTRO      2131.067   1689.208   1818.925   1900.716   1926.7460 \n",
              "19 NUEVA POMPEYA     1733.885   1389.153   1435.563   1288.173   1520.7808 \n",
              "20 NUÑEZ             2860.343   2571.673   2766.086   3083.382   3099.7532 \n",
              "21 PALERMO           2969.914   2865.323   2855.663   3338.895   3440.1838 \n",
              "22 PARQUE AVELLANEDA 1501.626   1450.182   3093.725   1382.946   1365.5237 \n",
              "23 PARQUE CHACABUCO  1774.638   1787.546   1811.577   1743.468   2030.7709 \n",
              "24 PARQUE CHAS       2167.927   1938.503   2033.618   2103.709   2221.9000 \n",
              "25 PARQUE PATRICIOS  1671.574   1502.252   1665.247   1796.961   1784.2635 \n",
              "26 PATERNAL          1979.661   1694.042   1560.521   1958.359   2062.8619 \n",
              "27 PUERTO MADERO     4808.052   4754.230   5348.426   5742.719   6070.3288 \n",
              "28 RECOLETA          2804.563   2656.299   2698.058   3068.577   3248.2453 \n",
              "29 RETIRO            2684.619   2658.874   2728.101   2836.720   3146.8744 \n",
              "30 SAAVEDRA          2142.902   2159.452   2079.747   2186.247   2361.0853 \n",
              "31 SAN CRISTOBAL     2323.973   1934.920   2624.382   1770.419   1916.3548 \n",
              "32 SAN NICOLAS       2518.413   2180.252   2102.118   2343.136   2431.0081 \n",
              "33 SAN TELMO         2224.907   1984.548   1991.912   2186.106   2390.8029 \n",
              "34 VELEZ SARSFIELD   1618.784   1559.800   1520.944   1599.940   1751.4902 \n",
              "35 VERSALLES         1483.271   1403.157   1488.054   1645.329   1625.8537 \n",
              "36 VILLA CRESPO      2260.153   2357.957   2254.580   2326.994   2474.0603 \n",
              "37 VILLA DEL PARQUE  1935.495   1852.457   1859.115   2039.246   2197.6942 \n",
              "38 VILLA DEVOTO      2093.273   1904.191   2096.970   2083.992   2171.3600 \n",
              "39 VILLA GRAL. MITRE 1934.169   1731.286   1928.124   1967.199   2022.8740 \n",
              "40 VILLA LUGANO      1182.779   1248.710   1172.980   1208.222   1152.4682 \n",
              "41 VILLA LURO        1788.873   1949.096   1671.023   1681.790   2001.4789 \n",
              "42 VILLA ORTUZAR     2126.561   2151.608   2062.152   2007.371   2390.9102 \n",
              "43 VILLA PUEYRREDON  1894.086   1497.981   1630.813   1624.366   2061.2390 \n",
              "44 VILLA REAL        1669.844   1436.426   1463.709   1582.302   1726.4659 \n",
              "45 VILLA RIACHUELO   1489.534   1369.383   1212.377   1475.852   1311.8156 \n",
              "46 VILLA SANTA RITA  2182.093   1948.102   2137.532   1848.100   1952.2045 \n",
              "47 VILLA SOLDATI     1721.077   1700.376   1611.692   2382.034    872.7541 \n",
              "48 VILLA URQUIZA     2291.764   1980.756   2121.251   2439.630   2601.8794 \n",
              "   variacion2017\n",
              "1  -0.054035088 \n",
              "2   0.178714552 \n",
              "3   0.084576584 \n",
              "4   0.096127466 \n",
              "5  -0.026578132 \n",
              "6   0.147272999 \n",
              "7   0.188983294 \n",
              "8   0.109509072 \n",
              "9   0.153829179 \n",
              "10  0.067595124 \n",
              "11  0.114799767 \n",
              "12  0.066757422 \n",
              "13  0.054713752 \n",
              "14  0.059094725 \n",
              "15  0.011777652 \n",
              "16  0.116576231 \n",
              "17  0.058701266 \n",
              "18  0.013695028 \n",
              "19  0.180571806 \n",
              "20  0.005309427 \n",
              "21  0.030335920 \n",
              "22 -0.012597886 \n",
              "23  0.164787925 \n",
              "24  0.056182089 \n",
              "25 -0.007066143 \n",
              "26  0.053362407 \n",
              "27  0.057047785 \n",
              "28  0.058550888 \n",
              "29  0.109335670 \n",
              "30  0.079971871 \n",
              "31  0.082429874 \n",
              "32  0.037502030 \n",
              "33  0.093635362 \n",
              "34  0.094722438 \n",
              "35 -0.011836759 \n",
              "36  0.063200309 \n",
              "37  0.077699205 \n",
              "38  0.041923218 \n",
              "39  0.028301429 \n",
              "40 -0.046145371 \n",
              "41  0.190088455 \n",
              "42  0.191065358 \n",
              "43  0.268950101 \n",
              "44  0.091110358 \n",
              "45 -0.111147102 \n",
              "46  0.056330404 \n",
              "47 -0.633609689 \n",
              "48  0.066505565 "
            ],
            "text/html": [
              "<table class=\"dataframe\">\n",
              "<caption>A data.frame: 48 × 7</caption>\n",
              "<thead>\n",
              "\t<tr><th scope=col>BARRIOS</th><th scope=col>USDm2_2013</th><th scope=col>USDm2_2014</th><th scope=col>USDm2_2015</th><th scope=col>USDm2_2016</th><th scope=col>USDm2_2017</th><th scope=col>variacion2017</th></tr>\n",
              "\t<tr><th scope=col>&lt;chr&gt;</th><th scope=col>&lt;dbl&gt;</th><th scope=col>&lt;dbl&gt;</th><th scope=col>&lt;dbl&gt;</th><th scope=col>&lt;dbl&gt;</th><th scope=col>&lt;dbl&gt;</th><th scope=col>&lt;dbl&gt;</th></tr>\n",
              "</thead>\n",
              "<tbody>\n",
              "\t<tr><td>AGRONOMIA        </td><td>1749.107</td><td>1457.974</td><td>1689.309</td><td>2056.743</td><td>1945.6065</td><td>-0.054035088</td></tr>\n",
              "\t<tr><td>ALMAGRO          </td><td>2033.538</td><td>1930.081</td><td>2086.387</td><td>1950.488</td><td>2299.0683</td><td> 0.178714552</td></tr>\n",
              "\t<tr><td>BALVANERA        </td><td>1893.371</td><td>1818.466</td><td>1857.900</td><td>1834.028</td><td>1989.1439</td><td> 0.084576584</td></tr>\n",
              "\t<tr><td>BARRACAS         </td><td>2229.450</td><td>1901.401</td><td>2390.073</td><td>1751.239</td><td>1919.5811</td><td> 0.096127466</td></tr>\n",
              "\t<tr><td>BELGRANO         </td><td>2619.973</td><td>2544.015</td><td>2695.148</td><td>3286.557</td><td>3199.2061</td><td>-0.026578132</td></tr>\n",
              "\t<tr><td>BOCA             </td><td>1665.082</td><td>1405.424</td><td>1812.957</td><td>1459.604</td><td>1674.5640</td><td> 0.147272999</td></tr>\n",
              "\t<tr><td>BOEDO            </td><td>2578.181</td><td>1810.027</td><td>2082.106</td><td>1562.627</td><td>1857.9378</td><td> 0.188983294</td></tr>\n",
              "\t<tr><td>CABALLITO        </td><td>2263.397</td><td>2033.947</td><td>2153.961</td><td>2264.950</td><td>2512.9830</td><td> 0.109509072</td></tr>\n",
              "\t<tr><td>CHACARITA        </td><td>2353.396</td><td>2083.826</td><td>2122.337</td><td>2110.865</td><td>2435.5774</td><td> 0.153829179</td></tr>\n",
              "\t<tr><td>COGHLAN          </td><td>2656.169</td><td>2211.404</td><td>2234.113</td><td>2443.587</td><td>2608.7611</td><td> 0.067595124</td></tr>\n",
              "\t<tr><td>COLEGIALES       </td><td>2456.690</td><td>2425.557</td><td>2345.988</td><td>2530.120</td><td>2820.5775</td><td> 0.114799767</td></tr>\n",
              "\t<tr><td>CONSTITUCION     </td><td>1757.722</td><td>1615.515</td><td>1891.143</td><td>1669.477</td><td>1780.9270</td><td> 0.066757422</td></tr>\n",
              "\t<tr><td>FLORES           </td><td>2012.048</td><td>1818.180</td><td>1941.132</td><td>1945.581</td><td>2052.0307</td><td> 0.054713752</td></tr>\n",
              "\t<tr><td>FLORESTA         </td><td>1775.217</td><td>1850.633</td><td>1707.078</td><td>1698.672</td><td>1799.0546</td><td> 0.059094725</td></tr>\n",
              "\t<tr><td>LINIERS          </td><td>1671.956</td><td>1583.798</td><td>1804.059</td><td>1778.948</td><td>1799.8994</td><td> 0.011777652</td></tr>\n",
              "\t<tr><td>MATADEROS        </td><td>1509.202</td><td>1470.884</td><td>1460.970</td><td>1367.489</td><td>1526.9062</td><td> 0.116576231</td></tr>\n",
              "\t<tr><td>MONSERRAT        </td><td>2211.122</td><td>2063.177</td><td>2114.658</td><td>2073.782</td><td>2195.5157</td><td> 0.058701266</td></tr>\n",
              "\t<tr><td>MONTE CASTRO     </td><td>2131.067</td><td>1689.208</td><td>1818.925</td><td>1900.716</td><td>1926.7460</td><td> 0.013695028</td></tr>\n",
              "\t<tr><td>NUEVA POMPEYA    </td><td>1733.885</td><td>1389.153</td><td>1435.563</td><td>1288.173</td><td>1520.7808</td><td> 0.180571806</td></tr>\n",
              "\t<tr><td>NUÑEZ            </td><td>2860.343</td><td>2571.673</td><td>2766.086</td><td>3083.382</td><td>3099.7532</td><td> 0.005309427</td></tr>\n",
              "\t<tr><td>PALERMO          </td><td>2969.914</td><td>2865.323</td><td>2855.663</td><td>3338.895</td><td>3440.1838</td><td> 0.030335920</td></tr>\n",
              "\t<tr><td>PARQUE AVELLANEDA</td><td>1501.626</td><td>1450.182</td><td>3093.725</td><td>1382.946</td><td>1365.5237</td><td>-0.012597886</td></tr>\n",
              "\t<tr><td>PARQUE CHACABUCO </td><td>1774.638</td><td>1787.546</td><td>1811.577</td><td>1743.468</td><td>2030.7709</td><td> 0.164787925</td></tr>\n",
              "\t<tr><td>PARQUE CHAS      </td><td>2167.927</td><td>1938.503</td><td>2033.618</td><td>2103.709</td><td>2221.9000</td><td> 0.056182089</td></tr>\n",
              "\t<tr><td>PARQUE PATRICIOS </td><td>1671.574</td><td>1502.252</td><td>1665.247</td><td>1796.961</td><td>1784.2635</td><td>-0.007066143</td></tr>\n",
              "\t<tr><td>PATERNAL         </td><td>1979.661</td><td>1694.042</td><td>1560.521</td><td>1958.359</td><td>2062.8619</td><td> 0.053362407</td></tr>\n",
              "\t<tr><td>PUERTO MADERO    </td><td>4808.052</td><td>4754.230</td><td>5348.426</td><td>5742.719</td><td>6070.3288</td><td> 0.057047785</td></tr>\n",
              "\t<tr><td>RECOLETA         </td><td>2804.563</td><td>2656.299</td><td>2698.058</td><td>3068.577</td><td>3248.2453</td><td> 0.058550888</td></tr>\n",
              "\t<tr><td>RETIRO           </td><td>2684.619</td><td>2658.874</td><td>2728.101</td><td>2836.720</td><td>3146.8744</td><td> 0.109335670</td></tr>\n",
              "\t<tr><td>SAAVEDRA         </td><td>2142.902</td><td>2159.452</td><td>2079.747</td><td>2186.247</td><td>2361.0853</td><td> 0.079971871</td></tr>\n",
              "\t<tr><td>SAN CRISTOBAL    </td><td>2323.973</td><td>1934.920</td><td>2624.382</td><td>1770.419</td><td>1916.3548</td><td> 0.082429874</td></tr>\n",
              "\t<tr><td>SAN NICOLAS      </td><td>2518.413</td><td>2180.252</td><td>2102.118</td><td>2343.136</td><td>2431.0081</td><td> 0.037502030</td></tr>\n",
              "\t<tr><td>SAN TELMO        </td><td>2224.907</td><td>1984.548</td><td>1991.912</td><td>2186.106</td><td>2390.8029</td><td> 0.093635362</td></tr>\n",
              "\t<tr><td>VELEZ SARSFIELD  </td><td>1618.784</td><td>1559.800</td><td>1520.944</td><td>1599.940</td><td>1751.4902</td><td> 0.094722438</td></tr>\n",
              "\t<tr><td>VERSALLES        </td><td>1483.271</td><td>1403.157</td><td>1488.054</td><td>1645.329</td><td>1625.8537</td><td>-0.011836759</td></tr>\n",
              "\t<tr><td>VILLA CRESPO     </td><td>2260.153</td><td>2357.957</td><td>2254.580</td><td>2326.994</td><td>2474.0603</td><td> 0.063200309</td></tr>\n",
              "\t<tr><td>VILLA DEL PARQUE </td><td>1935.495</td><td>1852.457</td><td>1859.115</td><td>2039.246</td><td>2197.6942</td><td> 0.077699205</td></tr>\n",
              "\t<tr><td>VILLA DEVOTO     </td><td>2093.273</td><td>1904.191</td><td>2096.970</td><td>2083.992</td><td>2171.3600</td><td> 0.041923218</td></tr>\n",
              "\t<tr><td>VILLA GRAL. MITRE</td><td>1934.169</td><td>1731.286</td><td>1928.124</td><td>1967.199</td><td>2022.8740</td><td> 0.028301429</td></tr>\n",
              "\t<tr><td>VILLA LUGANO     </td><td>1182.779</td><td>1248.710</td><td>1172.980</td><td>1208.222</td><td>1152.4682</td><td>-0.046145371</td></tr>\n",
              "\t<tr><td>VILLA LURO       </td><td>1788.873</td><td>1949.096</td><td>1671.023</td><td>1681.790</td><td>2001.4789</td><td> 0.190088455</td></tr>\n",
              "\t<tr><td>VILLA ORTUZAR    </td><td>2126.561</td><td>2151.608</td><td>2062.152</td><td>2007.371</td><td>2390.9102</td><td> 0.191065358</td></tr>\n",
              "\t<tr><td>VILLA PUEYRREDON </td><td>1894.086</td><td>1497.981</td><td>1630.813</td><td>1624.366</td><td>2061.2390</td><td> 0.268950101</td></tr>\n",
              "\t<tr><td>VILLA REAL       </td><td>1669.844</td><td>1436.426</td><td>1463.709</td><td>1582.302</td><td>1726.4659</td><td> 0.091110358</td></tr>\n",
              "\t<tr><td>VILLA RIACHUELO  </td><td>1489.534</td><td>1369.383</td><td>1212.377</td><td>1475.852</td><td>1311.8156</td><td>-0.111147102</td></tr>\n",
              "\t<tr><td>VILLA SANTA RITA </td><td>2182.093</td><td>1948.102</td><td>2137.532</td><td>1848.100</td><td>1952.2045</td><td> 0.056330404</td></tr>\n",
              "\t<tr><td>VILLA SOLDATI    </td><td>1721.077</td><td>1700.376</td><td>1611.692</td><td>2382.034</td><td> 872.7541</td><td>-0.633609689</td></tr>\n",
              "\t<tr><td>VILLA URQUIZA    </td><td>2291.764</td><td>1980.756</td><td>2121.251</td><td>2439.630</td><td>2601.8794</td><td> 0.066505565</td></tr>\n",
              "</tbody>\n",
              "</table>\n"
            ],
            "text/markdown": "\nA data.frame: 48 × 7\n\n| BARRIOS &lt;chr&gt; | USDm2_2013 &lt;dbl&gt; | USDm2_2014 &lt;dbl&gt; | USDm2_2015 &lt;dbl&gt; | USDm2_2016 &lt;dbl&gt; | USDm2_2017 &lt;dbl&gt; | variacion2017 &lt;dbl&gt; |\n|---|---|---|---|---|---|---|\n| AGRONOMIA         | 1749.107 | 1457.974 | 1689.309 | 2056.743 | 1945.6065 | -0.054035088 |\n| ALMAGRO           | 2033.538 | 1930.081 | 2086.387 | 1950.488 | 2299.0683 |  0.178714552 |\n| BALVANERA         | 1893.371 | 1818.466 | 1857.900 | 1834.028 | 1989.1439 |  0.084576584 |\n| BARRACAS          | 2229.450 | 1901.401 | 2390.073 | 1751.239 | 1919.5811 |  0.096127466 |\n| BELGRANO          | 2619.973 | 2544.015 | 2695.148 | 3286.557 | 3199.2061 | -0.026578132 |\n| BOCA              | 1665.082 | 1405.424 | 1812.957 | 1459.604 | 1674.5640 |  0.147272999 |\n| BOEDO             | 2578.181 | 1810.027 | 2082.106 | 1562.627 | 1857.9378 |  0.188983294 |\n| CABALLITO         | 2263.397 | 2033.947 | 2153.961 | 2264.950 | 2512.9830 |  0.109509072 |\n| CHACARITA         | 2353.396 | 2083.826 | 2122.337 | 2110.865 | 2435.5774 |  0.153829179 |\n| COGHLAN           | 2656.169 | 2211.404 | 2234.113 | 2443.587 | 2608.7611 |  0.067595124 |\n| COLEGIALES        | 2456.690 | 2425.557 | 2345.988 | 2530.120 | 2820.5775 |  0.114799767 |\n| CONSTITUCION      | 1757.722 | 1615.515 | 1891.143 | 1669.477 | 1780.9270 |  0.066757422 |\n| FLORES            | 2012.048 | 1818.180 | 1941.132 | 1945.581 | 2052.0307 |  0.054713752 |\n| FLORESTA          | 1775.217 | 1850.633 | 1707.078 | 1698.672 | 1799.0546 |  0.059094725 |\n| LINIERS           | 1671.956 | 1583.798 | 1804.059 | 1778.948 | 1799.8994 |  0.011777652 |\n| MATADEROS         | 1509.202 | 1470.884 | 1460.970 | 1367.489 | 1526.9062 |  0.116576231 |\n| MONSERRAT         | 2211.122 | 2063.177 | 2114.658 | 2073.782 | 2195.5157 |  0.058701266 |\n| MONTE CASTRO      | 2131.067 | 1689.208 | 1818.925 | 1900.716 | 1926.7460 |  0.013695028 |\n| NUEVA POMPEYA     | 1733.885 | 1389.153 | 1435.563 | 1288.173 | 1520.7808 |  0.180571806 |\n| NUÑEZ             | 2860.343 | 2571.673 | 2766.086 | 3083.382 | 3099.7532 |  0.005309427 |\n| PALERMO           | 2969.914 | 2865.323 | 2855.663 | 3338.895 | 3440.1838 |  0.030335920 |\n| PARQUE AVELLANEDA | 1501.626 | 1450.182 | 3093.725 | 1382.946 | 1365.5237 | -0.012597886 |\n| PARQUE CHACABUCO  | 1774.638 | 1787.546 | 1811.577 | 1743.468 | 2030.7709 |  0.164787925 |\n| PARQUE CHAS       | 2167.927 | 1938.503 | 2033.618 | 2103.709 | 2221.9000 |  0.056182089 |\n| PARQUE PATRICIOS  | 1671.574 | 1502.252 | 1665.247 | 1796.961 | 1784.2635 | -0.007066143 |\n| PATERNAL          | 1979.661 | 1694.042 | 1560.521 | 1958.359 | 2062.8619 |  0.053362407 |\n| PUERTO MADERO     | 4808.052 | 4754.230 | 5348.426 | 5742.719 | 6070.3288 |  0.057047785 |\n| RECOLETA          | 2804.563 | 2656.299 | 2698.058 | 3068.577 | 3248.2453 |  0.058550888 |\n| RETIRO            | 2684.619 | 2658.874 | 2728.101 | 2836.720 | 3146.8744 |  0.109335670 |\n| SAAVEDRA          | 2142.902 | 2159.452 | 2079.747 | 2186.247 | 2361.0853 |  0.079971871 |\n| SAN CRISTOBAL     | 2323.973 | 1934.920 | 2624.382 | 1770.419 | 1916.3548 |  0.082429874 |\n| SAN NICOLAS       | 2518.413 | 2180.252 | 2102.118 | 2343.136 | 2431.0081 |  0.037502030 |\n| SAN TELMO         | 2224.907 | 1984.548 | 1991.912 | 2186.106 | 2390.8029 |  0.093635362 |\n| VELEZ SARSFIELD   | 1618.784 | 1559.800 | 1520.944 | 1599.940 | 1751.4902 |  0.094722438 |\n| VERSALLES         | 1483.271 | 1403.157 | 1488.054 | 1645.329 | 1625.8537 | -0.011836759 |\n| VILLA CRESPO      | 2260.153 | 2357.957 | 2254.580 | 2326.994 | 2474.0603 |  0.063200309 |\n| VILLA DEL PARQUE  | 1935.495 | 1852.457 | 1859.115 | 2039.246 | 2197.6942 |  0.077699205 |\n| VILLA DEVOTO      | 2093.273 | 1904.191 | 2096.970 | 2083.992 | 2171.3600 |  0.041923218 |\n| VILLA GRAL. MITRE | 1934.169 | 1731.286 | 1928.124 | 1967.199 | 2022.8740 |  0.028301429 |\n| VILLA LUGANO      | 1182.779 | 1248.710 | 1172.980 | 1208.222 | 1152.4682 | -0.046145371 |\n| VILLA LURO        | 1788.873 | 1949.096 | 1671.023 | 1681.790 | 2001.4789 |  0.190088455 |\n| VILLA ORTUZAR     | 2126.561 | 2151.608 | 2062.152 | 2007.371 | 2390.9102 |  0.191065358 |\n| VILLA PUEYRREDON  | 1894.086 | 1497.981 | 1630.813 | 1624.366 | 2061.2390 |  0.268950101 |\n| VILLA REAL        | 1669.844 | 1436.426 | 1463.709 | 1582.302 | 1726.4659 |  0.091110358 |\n| VILLA RIACHUELO   | 1489.534 | 1369.383 | 1212.377 | 1475.852 | 1311.8156 | -0.111147102 |\n| VILLA SANTA RITA  | 2182.093 | 1948.102 | 2137.532 | 1848.100 | 1952.2045 |  0.056330404 |\n| VILLA SOLDATI     | 1721.077 | 1700.376 | 1611.692 | 2382.034 |  872.7541 | -0.633609689 |\n| VILLA URQUIZA     | 2291.764 | 1980.756 | 2121.251 | 2439.630 | 2601.8794 |  0.066505565 |\n\n",
            "text/latex": "A data.frame: 48 × 7\n\\begin{tabular}{lllllll}\n BARRIOS & USDm2\\_2013 & USDm2\\_2014 & USDm2\\_2015 & USDm2\\_2016 & USDm2\\_2017 & variacion2017\\\\\n <chr> & <dbl> & <dbl> & <dbl> & <dbl> & <dbl> & <dbl>\\\\\n\\hline\n\t AGRONOMIA         & 1749.107 & 1457.974 & 1689.309 & 2056.743 & 1945.6065 & -0.054035088\\\\\n\t ALMAGRO           & 2033.538 & 1930.081 & 2086.387 & 1950.488 & 2299.0683 &  0.178714552\\\\\n\t BALVANERA         & 1893.371 & 1818.466 & 1857.900 & 1834.028 & 1989.1439 &  0.084576584\\\\\n\t BARRACAS          & 2229.450 & 1901.401 & 2390.073 & 1751.239 & 1919.5811 &  0.096127466\\\\\n\t BELGRANO          & 2619.973 & 2544.015 & 2695.148 & 3286.557 & 3199.2061 & -0.026578132\\\\\n\t BOCA              & 1665.082 & 1405.424 & 1812.957 & 1459.604 & 1674.5640 &  0.147272999\\\\\n\t BOEDO             & 2578.181 & 1810.027 & 2082.106 & 1562.627 & 1857.9378 &  0.188983294\\\\\n\t CABALLITO         & 2263.397 & 2033.947 & 2153.961 & 2264.950 & 2512.9830 &  0.109509072\\\\\n\t CHACARITA         & 2353.396 & 2083.826 & 2122.337 & 2110.865 & 2435.5774 &  0.153829179\\\\\n\t COGHLAN           & 2656.169 & 2211.404 & 2234.113 & 2443.587 & 2608.7611 &  0.067595124\\\\\n\t COLEGIALES        & 2456.690 & 2425.557 & 2345.988 & 2530.120 & 2820.5775 &  0.114799767\\\\\n\t CONSTITUCION      & 1757.722 & 1615.515 & 1891.143 & 1669.477 & 1780.9270 &  0.066757422\\\\\n\t FLORES            & 2012.048 & 1818.180 & 1941.132 & 1945.581 & 2052.0307 &  0.054713752\\\\\n\t FLORESTA          & 1775.217 & 1850.633 & 1707.078 & 1698.672 & 1799.0546 &  0.059094725\\\\\n\t LINIERS           & 1671.956 & 1583.798 & 1804.059 & 1778.948 & 1799.8994 &  0.011777652\\\\\n\t MATADEROS         & 1509.202 & 1470.884 & 1460.970 & 1367.489 & 1526.9062 &  0.116576231\\\\\n\t MONSERRAT         & 2211.122 & 2063.177 & 2114.658 & 2073.782 & 2195.5157 &  0.058701266\\\\\n\t MONTE CASTRO      & 2131.067 & 1689.208 & 1818.925 & 1900.716 & 1926.7460 &  0.013695028\\\\\n\t NUEVA POMPEYA     & 1733.885 & 1389.153 & 1435.563 & 1288.173 & 1520.7808 &  0.180571806\\\\\n\t NUÑEZ             & 2860.343 & 2571.673 & 2766.086 & 3083.382 & 3099.7532 &  0.005309427\\\\\n\t PALERMO           & 2969.914 & 2865.323 & 2855.663 & 3338.895 & 3440.1838 &  0.030335920\\\\\n\t PARQUE AVELLANEDA & 1501.626 & 1450.182 & 3093.725 & 1382.946 & 1365.5237 & -0.012597886\\\\\n\t PARQUE CHACABUCO  & 1774.638 & 1787.546 & 1811.577 & 1743.468 & 2030.7709 &  0.164787925\\\\\n\t PARQUE CHAS       & 2167.927 & 1938.503 & 2033.618 & 2103.709 & 2221.9000 &  0.056182089\\\\\n\t PARQUE PATRICIOS  & 1671.574 & 1502.252 & 1665.247 & 1796.961 & 1784.2635 & -0.007066143\\\\\n\t PATERNAL          & 1979.661 & 1694.042 & 1560.521 & 1958.359 & 2062.8619 &  0.053362407\\\\\n\t PUERTO MADERO     & 4808.052 & 4754.230 & 5348.426 & 5742.719 & 6070.3288 &  0.057047785\\\\\n\t RECOLETA          & 2804.563 & 2656.299 & 2698.058 & 3068.577 & 3248.2453 &  0.058550888\\\\\n\t RETIRO            & 2684.619 & 2658.874 & 2728.101 & 2836.720 & 3146.8744 &  0.109335670\\\\\n\t SAAVEDRA          & 2142.902 & 2159.452 & 2079.747 & 2186.247 & 2361.0853 &  0.079971871\\\\\n\t SAN CRISTOBAL     & 2323.973 & 1934.920 & 2624.382 & 1770.419 & 1916.3548 &  0.082429874\\\\\n\t SAN NICOLAS       & 2518.413 & 2180.252 & 2102.118 & 2343.136 & 2431.0081 &  0.037502030\\\\\n\t SAN TELMO         & 2224.907 & 1984.548 & 1991.912 & 2186.106 & 2390.8029 &  0.093635362\\\\\n\t VELEZ SARSFIELD   & 1618.784 & 1559.800 & 1520.944 & 1599.940 & 1751.4902 &  0.094722438\\\\\n\t VERSALLES         & 1483.271 & 1403.157 & 1488.054 & 1645.329 & 1625.8537 & -0.011836759\\\\\n\t VILLA CRESPO      & 2260.153 & 2357.957 & 2254.580 & 2326.994 & 2474.0603 &  0.063200309\\\\\n\t VILLA DEL PARQUE  & 1935.495 & 1852.457 & 1859.115 & 2039.246 & 2197.6942 &  0.077699205\\\\\n\t VILLA DEVOTO      & 2093.273 & 1904.191 & 2096.970 & 2083.992 & 2171.3600 &  0.041923218\\\\\n\t VILLA GRAL. MITRE & 1934.169 & 1731.286 & 1928.124 & 1967.199 & 2022.8740 &  0.028301429\\\\\n\t VILLA LUGANO      & 1182.779 & 1248.710 & 1172.980 & 1208.222 & 1152.4682 & -0.046145371\\\\\n\t VILLA LURO        & 1788.873 & 1949.096 & 1671.023 & 1681.790 & 2001.4789 &  0.190088455\\\\\n\t VILLA ORTUZAR     & 2126.561 & 2151.608 & 2062.152 & 2007.371 & 2390.9102 &  0.191065358\\\\\n\t VILLA PUEYRREDON  & 1894.086 & 1497.981 & 1630.813 & 1624.366 & 2061.2390 &  0.268950101\\\\\n\t VILLA REAL        & 1669.844 & 1436.426 & 1463.709 & 1582.302 & 1726.4659 &  0.091110358\\\\\n\t VILLA RIACHUELO   & 1489.534 & 1369.383 & 1212.377 & 1475.852 & 1311.8156 & -0.111147102\\\\\n\t VILLA SANTA RITA  & 2182.093 & 1948.102 & 2137.532 & 1848.100 & 1952.2045 &  0.056330404\\\\\n\t VILLA SOLDATI     & 1721.077 & 1700.376 & 1611.692 & 2382.034 &  872.7541 & -0.633609689\\\\\n\t VILLA URQUIZA     & 2291.764 & 1980.756 & 2121.251 & 2439.630 & 2601.8794 &  0.066505565\\\\\n\\end{tabular}\n"
          },
          "metadata": {}
        }
      ],
      "source": [
        "precioAvisos$variacion2017 <-  precioAvisos$USDm2_2017/precioAvisos$USDm2_2016 - 1\n",
        "View(precioAvisos)"
      ]
    },
    {
      "cell_type": "markdown",
      "metadata": {
        "id": "iAW9et0XCmsm"
      },
      "source": [
        "Ordenen desde el visor a las variaciones por barrio ¿Qué pasó? Si miran con atención, el precio de los inmuebles en Villa Soldati, para nuestra muestra, cayó un 63%. Claro que esto tiene un impacto sobre el cálculo de la variación en 2017. No se preocupen, en el próximo capítulo, con la ayuda de **tidyverse** vamos a poder ver qué pasa con esto.\n",
        "\n",
        "¿Qué pueden decir sobre la heterogeneidad en los barrios? ¿Cuáles crecieron más y cuáles menos?"
      ]
    },
    {
      "cell_type": "markdown",
      "metadata": {
        "id": "dm577FT8Cmsm"
      },
      "source": [
        "## Conclusiones\n",
        "\n",
        "Los datos públicos a los que accedimos nos permitieron responder las dos preguntas iniciales:\n",
        "\n",
        "* En primer lugar, se observó un incremento en los precios de los inmuebles en USD durante el 2017 en comparación al 2016. Este aumento fue de aproximadamente 5,3%, según un promedio simple de las variaciones barriales.\n",
        "* En segundo lugar, las variaciones en los precios exhiben una importante heterogeneidad regional, con algunos barrios ubicados en la parte noroeste (Villa Pueyrredón, Villa Ortúzar, Chacarita, Colegiales) y sudeste (Nueva Pompeya, Parque Chacabuco, Boedo) de la capital aumentando más que el resto."
      ]
    },
    {
      "cell_type": "markdown",
      "metadata": {
        "id": "ZeraoEPpCmsm"
      },
      "source": [
        "## Ejercicios\n",
        "\n",
        "* ¿Cuál fue la variación de los precios de los inmuebles entre 2016 y 2015?\n",
        "* ¿Cuál fue la variación de los precios de los inmuebles entre 2017 y 2013?\n",
        "* ¿Cuál fue el barrio que más creció entre 2017 y 2013?\n",
        "* ¿Cuál fue el barrio que menos creció entre 2017 y 2013?\n",
        "* ¿Cual es el año en el que los precios de la ciudad fueron más altos? ¿Cuál fue ese valor?"
      ]
    },
    {
      "cell_type": "markdown",
      "metadata": {
        "id": "2njWFyZpz9QD"
      },
      "source": [
        "## Extensión: cargando y guardando datos de otros formatos\n",
        "\n",
        "### Microsoft Excel\n",
        "\n",
        "Para bien o para mal, las planillas de Excel están por todos lados. Es importante saber cómo cargarlas a R y poder trabjar con ellas desde aquí. Para esto, vamos a necesitar la ayuda de un paquete de datos de R (en el Capítulo 2 pueden aprender qué es un paquete de datos) y [descargar un archivo excel](https://github.com/martintinch0/CienciaDeDatosParaCuriosos/raw/master/data/child_mortality_0_5_year_olds_dying_per_1000_born.xlsx). En el ejemplo suponemos que este archivo está disponible en la carpeta principal del proyecto y que ya tienen instalado el paquete **readxl**.\n",
        "\n",
        "```R\n",
        "library(readxl)\n",
        "datos <- read_excel(path = 'child_mortality_0_5_year_olds_dying_per_1000_born.xlsx',\n",
        "                    sheet = 1)\n",
        "```"
      ]
    },
    {
      "cell_type": "markdown",
      "metadata": {
        "id": "arG9mNLlz9QD"
      },
      "source": [
        "Si inspeccionan el archivo datos con **str()**, **glimpse()** o **View()** van a poder ver qué tipo de datos hay en lo que leímos desde R. Solo necesitamos pasarle dos argumentos: la dirección (path) y el número o nombre de hoja (en este caso, la primera). Esta función tiene muchos otros parámetros para adaptarnos al formato que tenga la hoja de excel. Pueden averiguar más preguntando de esta manera: **?read\\_excel()**\n",
        "\n",
        "¿Cómo guardamos los datos a excel? Existen muchas alternativas para hacerlo, entre ellas la función write\\_xlsx que brinda el paquete _writexl_ ¿Por qué? Porque otras alternativas tienen diveresas dependencias, como rJava, que requiere tener instalado Java versión 64 bits en la computadora y muchas veces no es fácil darse cuenta de esto. La instalación de este paquete solo debe hacerse una vez, como se explicará en los capítulos que siguen.\n",
        "\n",
        "```R\n",
        "install.packages(\"writexl\")\n",
        "```"
      ]
    },
    {
      "cell_type": "markdown",
      "metadata": {
        "id": "BZFbcFK0z9QD"
      },
      "source": [
        "Una vez que lo instalaron, ya podemeos usar la función para escribir archivos xlsx luego de usar **library(writexl)**.\n",
        "\n",
        "```R\n",
        "library(writexl)\n",
        "write_xlsx(x = datos ,path = 'Mortalidad Infaitl.xlsx')\n",
        "```"
      ]
    },
    {
      "cell_type": "markdown",
      "metadata": {
        "id": "j5ObtjfNz9QD"
      },
      "source": [
        "> **Nota**: [Este video](https://www.youtube.com/watch?v=kIID5FDi2JQ) resume en unos pocos minutos gran parte de lo que vamos a ver acá y es recomendable[↩](introduccion-practica-a-la-ciencia-de-datos.html#fnref1)"
      ]
    }
  ],
  "metadata": {
    "colab": {
      "collapsed_sections": [],
      "name": "demor.ipynb",
      "provenance": [],
      "include_colab_link": true
    },
    "kernelspec": {
      "display_name": "R",
      "name": "ir"
    },
    "language_info": {
      "name": "R"
    }
  },
  "nbformat": 4,
  "nbformat_minor": 0
}